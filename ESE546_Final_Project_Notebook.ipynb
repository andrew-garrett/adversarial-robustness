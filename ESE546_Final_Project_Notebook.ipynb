{
  "nbformat": 4,
  "nbformat_minor": 0,
  "metadata": {
    "colab": {
      "name": "ESE546_Final_Project.ipynb",
      "provenance": [],
      "collapsed_sections": [
        "57Y_tUKM45wj",
        "q_Xed6Ih5BBp",
        "UArn4Uq75dV-",
        "qpCRyyhD5jb4",
        "9GFHy-sw6rjE",
        "CDrPIK3XSS14",
        "rL4a8rQJzEri",
        "u30SXOoozR-D"
      ]
    },
    "kernelspec": {
      "name": "python3",
      "display_name": "Python 3"
    },
    "language_info": {
      "name": "python"
    },
    "accelerator": "GPU",
    "widgets": {
      "application/vnd.jupyter.widget-state+json": {
        "825a610b472e49aca8eb23072be3412c": {
          "model_module": "@jupyter-widgets/controls",
          "model_name": "HBoxModel",
          "model_module_version": "1.5.0",
          "state": {
            "_view_name": "HBoxView",
            "_dom_classes": [],
            "_model_name": "HBoxModel",
            "_view_module": "@jupyter-widgets/controls",
            "_model_module_version": "1.5.0",
            "_view_count": null,
            "_view_module_version": "1.5.0",
            "box_style": "",
            "layout": "IPY_MODEL_7445bd80fd8846a3a9d5040c70046bc5",
            "_model_module": "@jupyter-widgets/controls",
            "children": [
              "IPY_MODEL_b411e51fd5b24ae79577359d9a2c3551",
              "IPY_MODEL_de84cf4534b34849b0ef2a8591722056",
              "IPY_MODEL_b7ccf512d50442fc953ebb6e4134bb04"
            ]
          }
        },
        "7445bd80fd8846a3a9d5040c70046bc5": {
          "model_module": "@jupyter-widgets/base",
          "model_name": "LayoutModel",
          "model_module_version": "1.2.0",
          "state": {
            "_view_name": "LayoutView",
            "grid_template_rows": null,
            "right": null,
            "justify_content": null,
            "_view_module": "@jupyter-widgets/base",
            "overflow": null,
            "_model_module_version": "1.2.0",
            "_view_count": null,
            "flex_flow": null,
            "width": null,
            "min_width": null,
            "border": null,
            "align_items": null,
            "bottom": null,
            "_model_module": "@jupyter-widgets/base",
            "top": null,
            "grid_column": null,
            "overflow_y": null,
            "overflow_x": null,
            "grid_auto_flow": null,
            "grid_area": null,
            "grid_template_columns": null,
            "flex": null,
            "_model_name": "LayoutModel",
            "justify_items": null,
            "grid_row": null,
            "max_height": null,
            "align_content": null,
            "visibility": null,
            "align_self": null,
            "height": null,
            "min_height": null,
            "padding": null,
            "grid_auto_rows": null,
            "grid_gap": null,
            "max_width": null,
            "order": null,
            "_view_module_version": "1.2.0",
            "grid_template_areas": null,
            "object_position": null,
            "object_fit": null,
            "grid_auto_columns": null,
            "margin": null,
            "display": null,
            "left": null
          }
        },
        "b411e51fd5b24ae79577359d9a2c3551": {
          "model_module": "@jupyter-widgets/controls",
          "model_name": "HTMLModel",
          "model_module_version": "1.5.0",
          "state": {
            "_view_name": "HTMLView",
            "style": "IPY_MODEL_c0ac6cf73d2746ab86078b1eac1a8445",
            "_dom_classes": [],
            "description": "",
            "_model_name": "HTMLModel",
            "placeholder": "​",
            "_view_module": "@jupyter-widgets/controls",
            "_model_module_version": "1.5.0",
            "value": "",
            "_view_count": null,
            "_view_module_version": "1.5.0",
            "description_tooltip": null,
            "_model_module": "@jupyter-widgets/controls",
            "layout": "IPY_MODEL_4c8a7e40cac1461399ec71f40e356f64"
          }
        },
        "de84cf4534b34849b0ef2a8591722056": {
          "model_module": "@jupyter-widgets/controls",
          "model_name": "FloatProgressModel",
          "model_module_version": "1.5.0",
          "state": {
            "_view_name": "ProgressView",
            "style": "IPY_MODEL_eb5733db63824a57934abc5ca766b971",
            "_dom_classes": [],
            "description": "",
            "_model_name": "FloatProgressModel",
            "bar_style": "success",
            "max": 170498071,
            "_view_module": "@jupyter-widgets/controls",
            "_model_module_version": "1.5.0",
            "value": 170498071,
            "_view_count": null,
            "_view_module_version": "1.5.0",
            "orientation": "horizontal",
            "min": 0,
            "description_tooltip": null,
            "_model_module": "@jupyter-widgets/controls",
            "layout": "IPY_MODEL_6e2ee393cfda40f89c93fb1aa6b69c56"
          }
        },
        "b7ccf512d50442fc953ebb6e4134bb04": {
          "model_module": "@jupyter-widgets/controls",
          "model_name": "HTMLModel",
          "model_module_version": "1.5.0",
          "state": {
            "_view_name": "HTMLView",
            "style": "IPY_MODEL_21cefdf6905143508b85a4947b97ca11",
            "_dom_classes": [],
            "description": "",
            "_model_name": "HTMLModel",
            "placeholder": "​",
            "_view_module": "@jupyter-widgets/controls",
            "_model_module_version": "1.5.0",
            "value": " 170499072/? [00:03&lt;00:00, 53836705.06it/s]",
            "_view_count": null,
            "_view_module_version": "1.5.0",
            "description_tooltip": null,
            "_model_module": "@jupyter-widgets/controls",
            "layout": "IPY_MODEL_8aecf80b9d234e85af8b2d644b64700b"
          }
        },
        "c0ac6cf73d2746ab86078b1eac1a8445": {
          "model_module": "@jupyter-widgets/controls",
          "model_name": "DescriptionStyleModel",
          "model_module_version": "1.5.0",
          "state": {
            "_view_name": "StyleView",
            "_model_name": "DescriptionStyleModel",
            "description_width": "",
            "_view_module": "@jupyter-widgets/base",
            "_model_module_version": "1.5.0",
            "_view_count": null,
            "_view_module_version": "1.2.0",
            "_model_module": "@jupyter-widgets/controls"
          }
        },
        "4c8a7e40cac1461399ec71f40e356f64": {
          "model_module": "@jupyter-widgets/base",
          "model_name": "LayoutModel",
          "model_module_version": "1.2.0",
          "state": {
            "_view_name": "LayoutView",
            "grid_template_rows": null,
            "right": null,
            "justify_content": null,
            "_view_module": "@jupyter-widgets/base",
            "overflow": null,
            "_model_module_version": "1.2.0",
            "_view_count": null,
            "flex_flow": null,
            "width": null,
            "min_width": null,
            "border": null,
            "align_items": null,
            "bottom": null,
            "_model_module": "@jupyter-widgets/base",
            "top": null,
            "grid_column": null,
            "overflow_y": null,
            "overflow_x": null,
            "grid_auto_flow": null,
            "grid_area": null,
            "grid_template_columns": null,
            "flex": null,
            "_model_name": "LayoutModel",
            "justify_items": null,
            "grid_row": null,
            "max_height": null,
            "align_content": null,
            "visibility": null,
            "align_self": null,
            "height": null,
            "min_height": null,
            "padding": null,
            "grid_auto_rows": null,
            "grid_gap": null,
            "max_width": null,
            "order": null,
            "_view_module_version": "1.2.0",
            "grid_template_areas": null,
            "object_position": null,
            "object_fit": null,
            "grid_auto_columns": null,
            "margin": null,
            "display": null,
            "left": null
          }
        },
        "eb5733db63824a57934abc5ca766b971": {
          "model_module": "@jupyter-widgets/controls",
          "model_name": "ProgressStyleModel",
          "model_module_version": "1.5.0",
          "state": {
            "_view_name": "StyleView",
            "_model_name": "ProgressStyleModel",
            "description_width": "",
            "_view_module": "@jupyter-widgets/base",
            "_model_module_version": "1.5.0",
            "_view_count": null,
            "_view_module_version": "1.2.0",
            "bar_color": null,
            "_model_module": "@jupyter-widgets/controls"
          }
        },
        "6e2ee393cfda40f89c93fb1aa6b69c56": {
          "model_module": "@jupyter-widgets/base",
          "model_name": "LayoutModel",
          "model_module_version": "1.2.0",
          "state": {
            "_view_name": "LayoutView",
            "grid_template_rows": null,
            "right": null,
            "justify_content": null,
            "_view_module": "@jupyter-widgets/base",
            "overflow": null,
            "_model_module_version": "1.2.0",
            "_view_count": null,
            "flex_flow": null,
            "width": null,
            "min_width": null,
            "border": null,
            "align_items": null,
            "bottom": null,
            "_model_module": "@jupyter-widgets/base",
            "top": null,
            "grid_column": null,
            "overflow_y": null,
            "overflow_x": null,
            "grid_auto_flow": null,
            "grid_area": null,
            "grid_template_columns": null,
            "flex": null,
            "_model_name": "LayoutModel",
            "justify_items": null,
            "grid_row": null,
            "max_height": null,
            "align_content": null,
            "visibility": null,
            "align_self": null,
            "height": null,
            "min_height": null,
            "padding": null,
            "grid_auto_rows": null,
            "grid_gap": null,
            "max_width": null,
            "order": null,
            "_view_module_version": "1.2.0",
            "grid_template_areas": null,
            "object_position": null,
            "object_fit": null,
            "grid_auto_columns": null,
            "margin": null,
            "display": null,
            "left": null
          }
        },
        "21cefdf6905143508b85a4947b97ca11": {
          "model_module": "@jupyter-widgets/controls",
          "model_name": "DescriptionStyleModel",
          "model_module_version": "1.5.0",
          "state": {
            "_view_name": "StyleView",
            "_model_name": "DescriptionStyleModel",
            "description_width": "",
            "_view_module": "@jupyter-widgets/base",
            "_model_module_version": "1.5.0",
            "_view_count": null,
            "_view_module_version": "1.2.0",
            "_model_module": "@jupyter-widgets/controls"
          }
        },
        "8aecf80b9d234e85af8b2d644b64700b": {
          "model_module": "@jupyter-widgets/base",
          "model_name": "LayoutModel",
          "model_module_version": "1.2.0",
          "state": {
            "_view_name": "LayoutView",
            "grid_template_rows": null,
            "right": null,
            "justify_content": null,
            "_view_module": "@jupyter-widgets/base",
            "overflow": null,
            "_model_module_version": "1.2.0",
            "_view_count": null,
            "flex_flow": null,
            "width": null,
            "min_width": null,
            "border": null,
            "align_items": null,
            "bottom": null,
            "_model_module": "@jupyter-widgets/base",
            "top": null,
            "grid_column": null,
            "overflow_y": null,
            "overflow_x": null,
            "grid_auto_flow": null,
            "grid_area": null,
            "grid_template_columns": null,
            "flex": null,
            "_model_name": "LayoutModel",
            "justify_items": null,
            "grid_row": null,
            "max_height": null,
            "align_content": null,
            "visibility": null,
            "align_self": null,
            "height": null,
            "min_height": null,
            "padding": null,
            "grid_auto_rows": null,
            "grid_gap": null,
            "max_width": null,
            "order": null,
            "_view_module_version": "1.2.0",
            "grid_template_areas": null,
            "object_position": null,
            "object_fit": null,
            "grid_auto_columns": null,
            "margin": null,
            "display": null,
            "left": null
          }
        },
        "a5d79f577dd9412c8cf063c329c2e3a2": {
          "model_module": "@jupyter-widgets/controls",
          "model_name": "VBoxModel",
          "model_module_version": "1.5.0",
          "state": {
            "_view_name": "VBoxView",
            "_dom_classes": [],
            "_model_name": "VBoxModel",
            "_view_module": "@jupyter-widgets/controls",
            "_model_module_version": "1.5.0",
            "_view_count": null,
            "_view_module_version": "1.5.0",
            "box_style": "",
            "layout": "IPY_MODEL_c783ab3629bf4e69aadfa6a6fc1cd7bb",
            "_model_module": "@jupyter-widgets/controls",
            "children": [
              "IPY_MODEL_b31405f35c84440492888f9b8bbb88be",
              "IPY_MODEL_eb26a284c0894ae6baf6f88afd385015"
            ]
          }
        },
        "c783ab3629bf4e69aadfa6a6fc1cd7bb": {
          "model_module": "@jupyter-widgets/base",
          "model_name": "LayoutModel",
          "model_module_version": "1.2.0",
          "state": {
            "_view_name": "LayoutView",
            "grid_template_rows": null,
            "right": null,
            "justify_content": null,
            "_view_module": "@jupyter-widgets/base",
            "overflow": null,
            "_model_module_version": "1.2.0",
            "_view_count": null,
            "flex_flow": null,
            "width": null,
            "min_width": null,
            "border": null,
            "align_items": null,
            "bottom": null,
            "_model_module": "@jupyter-widgets/base",
            "top": null,
            "grid_column": null,
            "overflow_y": null,
            "overflow_x": null,
            "grid_auto_flow": null,
            "grid_area": null,
            "grid_template_columns": null,
            "flex": null,
            "_model_name": "LayoutModel",
            "justify_items": null,
            "grid_row": null,
            "max_height": null,
            "align_content": null,
            "visibility": null,
            "align_self": null,
            "height": null,
            "min_height": null,
            "padding": null,
            "grid_auto_rows": null,
            "grid_gap": null,
            "max_width": null,
            "order": null,
            "_view_module_version": "1.2.0",
            "grid_template_areas": null,
            "object_position": null,
            "object_fit": null,
            "grid_auto_columns": null,
            "margin": null,
            "display": null,
            "left": null
          }
        },
        "b31405f35c84440492888f9b8bbb88be": {
          "model_module": "@jupyter-widgets/controls",
          "model_name": "LabelModel",
          "model_module_version": "1.5.0",
          "state": {
            "_view_name": "LabelView",
            "style": "IPY_MODEL_bdf0fcdf1f6245cf917c63402218467a",
            "_dom_classes": [],
            "description": "",
            "_model_name": "LabelModel",
            "placeholder": "​",
            "_view_module": "@jupyter-widgets/controls",
            "_model_module_version": "1.5.0",
            "value": " 0.02MB of 0.02MB uploaded (0.00MB deduped)\r",
            "_view_count": null,
            "_view_module_version": "1.5.0",
            "description_tooltip": null,
            "_model_module": "@jupyter-widgets/controls",
            "layout": "IPY_MODEL_d7d545b78ff244a1a83060dca333f1b3"
          }
        },
        "eb26a284c0894ae6baf6f88afd385015": {
          "model_module": "@jupyter-widgets/controls",
          "model_name": "FloatProgressModel",
          "model_module_version": "1.5.0",
          "state": {
            "_view_name": "ProgressView",
            "style": "IPY_MODEL_afc7f480f8034710872400966c42d5f3",
            "_dom_classes": [],
            "description": "",
            "_model_name": "FloatProgressModel",
            "bar_style": "",
            "max": 1,
            "_view_module": "@jupyter-widgets/controls",
            "_model_module_version": "1.5.0",
            "value": 1,
            "_view_count": null,
            "_view_module_version": "1.5.0",
            "orientation": "horizontal",
            "min": 0,
            "description_tooltip": null,
            "_model_module": "@jupyter-widgets/controls",
            "layout": "IPY_MODEL_08eb0727c66641a2a8a9478c8b33ca0c"
          }
        },
        "bdf0fcdf1f6245cf917c63402218467a": {
          "model_module": "@jupyter-widgets/controls",
          "model_name": "DescriptionStyleModel",
          "model_module_version": "1.5.0",
          "state": {
            "_view_name": "StyleView",
            "_model_name": "DescriptionStyleModel",
            "description_width": "",
            "_view_module": "@jupyter-widgets/base",
            "_model_module_version": "1.5.0",
            "_view_count": null,
            "_view_module_version": "1.2.0",
            "_model_module": "@jupyter-widgets/controls"
          }
        },
        "d7d545b78ff244a1a83060dca333f1b3": {
          "model_module": "@jupyter-widgets/base",
          "model_name": "LayoutModel",
          "model_module_version": "1.2.0",
          "state": {
            "_view_name": "LayoutView",
            "grid_template_rows": null,
            "right": null,
            "justify_content": null,
            "_view_module": "@jupyter-widgets/base",
            "overflow": null,
            "_model_module_version": "1.2.0",
            "_view_count": null,
            "flex_flow": null,
            "width": null,
            "min_width": null,
            "border": null,
            "align_items": null,
            "bottom": null,
            "_model_module": "@jupyter-widgets/base",
            "top": null,
            "grid_column": null,
            "overflow_y": null,
            "overflow_x": null,
            "grid_auto_flow": null,
            "grid_area": null,
            "grid_template_columns": null,
            "flex": null,
            "_model_name": "LayoutModel",
            "justify_items": null,
            "grid_row": null,
            "max_height": null,
            "align_content": null,
            "visibility": null,
            "align_self": null,
            "height": null,
            "min_height": null,
            "padding": null,
            "grid_auto_rows": null,
            "grid_gap": null,
            "max_width": null,
            "order": null,
            "_view_module_version": "1.2.0",
            "grid_template_areas": null,
            "object_position": null,
            "object_fit": null,
            "grid_auto_columns": null,
            "margin": null,
            "display": null,
            "left": null
          }
        },
        "afc7f480f8034710872400966c42d5f3": {
          "model_module": "@jupyter-widgets/controls",
          "model_name": "ProgressStyleModel",
          "model_module_version": "1.5.0",
          "state": {
            "_view_name": "StyleView",
            "_model_name": "ProgressStyleModel",
            "description_width": "",
            "_view_module": "@jupyter-widgets/base",
            "_model_module_version": "1.5.0",
            "_view_count": null,
            "_view_module_version": "1.2.0",
            "bar_color": null,
            "_model_module": "@jupyter-widgets/controls"
          }
        },
        "08eb0727c66641a2a8a9478c8b33ca0c": {
          "model_module": "@jupyter-widgets/base",
          "model_name": "LayoutModel",
          "model_module_version": "1.2.0",
          "state": {
            "_view_name": "LayoutView",
            "grid_template_rows": null,
            "right": null,
            "justify_content": null,
            "_view_module": "@jupyter-widgets/base",
            "overflow": null,
            "_model_module_version": "1.2.0",
            "_view_count": null,
            "flex_flow": null,
            "width": null,
            "min_width": null,
            "border": null,
            "align_items": null,
            "bottom": null,
            "_model_module": "@jupyter-widgets/base",
            "top": null,
            "grid_column": null,
            "overflow_y": null,
            "overflow_x": null,
            "grid_auto_flow": null,
            "grid_area": null,
            "grid_template_columns": null,
            "flex": null,
            "_model_name": "LayoutModel",
            "justify_items": null,
            "grid_row": null,
            "max_height": null,
            "align_content": null,
            "visibility": null,
            "align_self": null,
            "height": null,
            "min_height": null,
            "padding": null,
            "grid_auto_rows": null,
            "grid_gap": null,
            "max_width": null,
            "order": null,
            "_view_module_version": "1.2.0",
            "grid_template_areas": null,
            "object_position": null,
            "object_fit": null,
            "grid_auto_columns": null,
            "margin": null,
            "display": null,
            "left": null
          }
        },
        "8280bbcf23fd46bd8edd6e1a3e1e7b85": {
          "model_module": "@jupyter-widgets/controls",
          "model_name": "VBoxModel",
          "model_module_version": "1.5.0",
          "state": {
            "_view_name": "VBoxView",
            "_dom_classes": [],
            "_model_name": "VBoxModel",
            "_view_module": "@jupyter-widgets/controls",
            "_model_module_version": "1.5.0",
            "_view_count": null,
            "_view_module_version": "1.5.0",
            "box_style": "",
            "layout": "IPY_MODEL_6963df9bfdef445583e52cbb57c71777",
            "_model_module": "@jupyter-widgets/controls",
            "children": [
              "IPY_MODEL_122f2d058f3843d2b58155f6c7be234c",
              "IPY_MODEL_e9eba5ec41ed4776a477e7ab7a33ea03"
            ]
          }
        },
        "6963df9bfdef445583e52cbb57c71777": {
          "model_module": "@jupyter-widgets/base",
          "model_name": "LayoutModel",
          "model_module_version": "1.2.0",
          "state": {
            "_view_name": "LayoutView",
            "grid_template_rows": null,
            "right": null,
            "justify_content": null,
            "_view_module": "@jupyter-widgets/base",
            "overflow": null,
            "_model_module_version": "1.2.0",
            "_view_count": null,
            "flex_flow": null,
            "width": null,
            "min_width": null,
            "border": null,
            "align_items": null,
            "bottom": null,
            "_model_module": "@jupyter-widgets/base",
            "top": null,
            "grid_column": null,
            "overflow_y": null,
            "overflow_x": null,
            "grid_auto_flow": null,
            "grid_area": null,
            "grid_template_columns": null,
            "flex": null,
            "_model_name": "LayoutModel",
            "justify_items": null,
            "grid_row": null,
            "max_height": null,
            "align_content": null,
            "visibility": null,
            "align_self": null,
            "height": null,
            "min_height": null,
            "padding": null,
            "grid_auto_rows": null,
            "grid_gap": null,
            "max_width": null,
            "order": null,
            "_view_module_version": "1.2.0",
            "grid_template_areas": null,
            "object_position": null,
            "object_fit": null,
            "grid_auto_columns": null,
            "margin": null,
            "display": null,
            "left": null
          }
        },
        "122f2d058f3843d2b58155f6c7be234c": {
          "model_module": "@jupyter-widgets/controls",
          "model_name": "LabelModel",
          "model_module_version": "1.5.0",
          "state": {
            "_view_name": "LabelView",
            "style": "IPY_MODEL_7af1117192374e2aac555d2ec62e05cd",
            "_dom_classes": [],
            "description": "",
            "_model_name": "LabelModel",
            "placeholder": "​",
            "_view_module": "@jupyter-widgets/controls",
            "_model_module_version": "1.5.0",
            "value": " 0.01MB of 0.01MB uploaded (0.00MB deduped)\r",
            "_view_count": null,
            "_view_module_version": "1.5.0",
            "description_tooltip": null,
            "_model_module": "@jupyter-widgets/controls",
            "layout": "IPY_MODEL_d8059738b8554b0b802034e46dba0388"
          }
        },
        "e9eba5ec41ed4776a477e7ab7a33ea03": {
          "model_module": "@jupyter-widgets/controls",
          "model_name": "FloatProgressModel",
          "model_module_version": "1.5.0",
          "state": {
            "_view_name": "ProgressView",
            "style": "IPY_MODEL_a386b2e31ea448b7a6ac4961a42742cc",
            "_dom_classes": [],
            "description": "",
            "_model_name": "FloatProgressModel",
            "bar_style": "",
            "max": 1,
            "_view_module": "@jupyter-widgets/controls",
            "_model_module_version": "1.5.0",
            "value": 1,
            "_view_count": null,
            "_view_module_version": "1.5.0",
            "orientation": "horizontal",
            "min": 0,
            "description_tooltip": null,
            "_model_module": "@jupyter-widgets/controls",
            "layout": "IPY_MODEL_08d9e8893e674070a72a2794f10118f2"
          }
        },
        "7af1117192374e2aac555d2ec62e05cd": {
          "model_module": "@jupyter-widgets/controls",
          "model_name": "DescriptionStyleModel",
          "model_module_version": "1.5.0",
          "state": {
            "_view_name": "StyleView",
            "_model_name": "DescriptionStyleModel",
            "description_width": "",
            "_view_module": "@jupyter-widgets/base",
            "_model_module_version": "1.5.0",
            "_view_count": null,
            "_view_module_version": "1.2.0",
            "_model_module": "@jupyter-widgets/controls"
          }
        },
        "d8059738b8554b0b802034e46dba0388": {
          "model_module": "@jupyter-widgets/base",
          "model_name": "LayoutModel",
          "model_module_version": "1.2.0",
          "state": {
            "_view_name": "LayoutView",
            "grid_template_rows": null,
            "right": null,
            "justify_content": null,
            "_view_module": "@jupyter-widgets/base",
            "overflow": null,
            "_model_module_version": "1.2.0",
            "_view_count": null,
            "flex_flow": null,
            "width": null,
            "min_width": null,
            "border": null,
            "align_items": null,
            "bottom": null,
            "_model_module": "@jupyter-widgets/base",
            "top": null,
            "grid_column": null,
            "overflow_y": null,
            "overflow_x": null,
            "grid_auto_flow": null,
            "grid_area": null,
            "grid_template_columns": null,
            "flex": null,
            "_model_name": "LayoutModel",
            "justify_items": null,
            "grid_row": null,
            "max_height": null,
            "align_content": null,
            "visibility": null,
            "align_self": null,
            "height": null,
            "min_height": null,
            "padding": null,
            "grid_auto_rows": null,
            "grid_gap": null,
            "max_width": null,
            "order": null,
            "_view_module_version": "1.2.0",
            "grid_template_areas": null,
            "object_position": null,
            "object_fit": null,
            "grid_auto_columns": null,
            "margin": null,
            "display": null,
            "left": null
          }
        },
        "a386b2e31ea448b7a6ac4961a42742cc": {
          "model_module": "@jupyter-widgets/controls",
          "model_name": "ProgressStyleModel",
          "model_module_version": "1.5.0",
          "state": {
            "_view_name": "StyleView",
            "_model_name": "ProgressStyleModel",
            "description_width": "",
            "_view_module": "@jupyter-widgets/base",
            "_model_module_version": "1.5.0",
            "_view_count": null,
            "_view_module_version": "1.2.0",
            "bar_color": null,
            "_model_module": "@jupyter-widgets/controls"
          }
        },
        "08d9e8893e674070a72a2794f10118f2": {
          "model_module": "@jupyter-widgets/base",
          "model_name": "LayoutModel",
          "model_module_version": "1.2.0",
          "state": {
            "_view_name": "LayoutView",
            "grid_template_rows": null,
            "right": null,
            "justify_content": null,
            "_view_module": "@jupyter-widgets/base",
            "overflow": null,
            "_model_module_version": "1.2.0",
            "_view_count": null,
            "flex_flow": null,
            "width": null,
            "min_width": null,
            "border": null,
            "align_items": null,
            "bottom": null,
            "_model_module": "@jupyter-widgets/base",
            "top": null,
            "grid_column": null,
            "overflow_y": null,
            "overflow_x": null,
            "grid_auto_flow": null,
            "grid_area": null,
            "grid_template_columns": null,
            "flex": null,
            "_model_name": "LayoutModel",
            "justify_items": null,
            "grid_row": null,
            "max_height": null,
            "align_content": null,
            "visibility": null,
            "align_self": null,
            "height": null,
            "min_height": null,
            "padding": null,
            "grid_auto_rows": null,
            "grid_gap": null,
            "max_width": null,
            "order": null,
            "_view_module_version": "1.2.0",
            "grid_template_areas": null,
            "object_position": null,
            "object_fit": null,
            "grid_auto_columns": null,
            "margin": null,
            "display": null,
            "left": null
          }
        }
      }
    }
  },
  "cells": [
    {
      "cell_type": "markdown",
      "source": [
        "#Imports and Downloads"
      ],
      "metadata": {
        "id": "57Y_tUKM45wj"
      }
    },
    {
      "cell_type": "code",
      "execution_count": null,
      "metadata": {
        "id": "s_m9QF9rro2p",
        "colab": {
          "base_uri": "https://localhost:8080/"
        },
        "outputId": "d9c50144-49ab-4c5b-d429-fd3a0b16ce68"
      },
      "outputs": [
        {
          "output_type": "stream",
          "name": "stdout",
          "text": [
            "Mounted at /content/drive\n"
          ]
        }
      ],
      "source": [
        "from google.colab import drive\n",
        "drive.mount('/content/drive', force_remount=True)"
      ]
    },
    {
      "cell_type": "code",
      "source": [
        "!pip install wandb -q\n",
        "!pip install foolbox==3.3.1\n",
        "!cd '/content/drive/MyDrive/ESE546_Final_Project/'"
      ],
      "metadata": {
        "id": "j8tDYluNrvG7",
        "colab": {
          "base_uri": "https://localhost:8080/"
        },
        "outputId": "a881dbd8-6a44-4afe-f442-3807276eda11"
      },
      "execution_count": null,
      "outputs": [
        {
          "output_type": "stream",
          "name": "stdout",
          "text": [
            "Requirement already satisfied: foolbox==3.3.1 in /usr/local/lib/python3.7/dist-packages (3.3.1)\n",
            "Requirement already satisfied: setuptools in /usr/local/lib/python3.7/dist-packages (from foolbox==3.3.1) (57.4.0)\n",
            "Requirement already satisfied: requests>=2.24.0 in /usr/local/lib/python3.7/dist-packages (from foolbox==3.3.1) (2.26.0)\n",
            "Requirement already satisfied: numpy in /usr/local/lib/python3.7/dist-packages (from foolbox==3.3.1) (1.19.5)\n",
            "Requirement already satisfied: typing-extensions>=3.7.4.1 in /usr/local/lib/python3.7/dist-packages (from foolbox==3.3.1) (3.10.0.2)\n",
            "Requirement already satisfied: GitPython>=3.0.7 in /usr/local/lib/python3.7/dist-packages (from foolbox==3.3.1) (3.1.24)\n",
            "Requirement already satisfied: scipy in /usr/local/lib/python3.7/dist-packages (from foolbox==3.3.1) (1.4.1)\n",
            "Requirement already satisfied: eagerpy==0.29.0 in /usr/local/lib/python3.7/dist-packages (from foolbox==3.3.1) (0.29.0)\n",
            "Requirement already satisfied: gitdb<5,>=4.0.1 in /usr/local/lib/python3.7/dist-packages (from GitPython>=3.0.7->foolbox==3.3.1) (4.0.9)\n",
            "Requirement already satisfied: smmap<6,>=3.0.1 in /usr/local/lib/python3.7/dist-packages (from gitdb<5,>=4.0.1->GitPython>=3.0.7->foolbox==3.3.1) (5.0.0)\n",
            "Requirement already satisfied: urllib3<1.27,>=1.21.1 in /usr/local/lib/python3.7/dist-packages (from requests>=2.24.0->foolbox==3.3.1) (1.24.3)\n",
            "Requirement already satisfied: idna<4,>=2.5 in /usr/local/lib/python3.7/dist-packages (from requests>=2.24.0->foolbox==3.3.1) (2.10)\n",
            "Requirement already satisfied: charset-normalizer~=2.0.0 in /usr/local/lib/python3.7/dist-packages (from requests>=2.24.0->foolbox==3.3.1) (2.0.8)\n",
            "Requirement already satisfied: certifi>=2017.4.17 in /usr/local/lib/python3.7/dist-packages (from requests>=2.24.0->foolbox==3.3.1) (2021.10.8)\n"
          ]
        }
      ]
    },
    {
      "cell_type": "code",
      "source": [
        "from __future__ import print_function\n",
        "import argparse\n",
        "import os\n",
        "from copy import deepcopy\n",
        "import random\n",
        "import matplotlib.pyplot as plt\n",
        "import PIL\n",
        "import numpy as np\n",
        "from scipy import ndimage\n",
        "import cv2\n",
        "from cv2 import fastNlMeansDenoisingColored, cvtColor \n",
        "from skimage.restoration import denoise_nl_means, estimate_sigma\n",
        "import math\n",
        "\n",
        "# torch and torchvision imports\n",
        "import torch\n",
        "import torchvision\n",
        "import torch.nn as nn\n",
        "import torchvision.transforms as transforms\n",
        "import torch.optim as optim\n",
        "from torch.utils.data import TensorDataset\n",
        "\n",
        "# WandB – Import the wandb library\n",
        "import wandb\n",
        "# FoolBox - import the foolbox library\n",
        "import eagerpy as ep\n",
        "import foolbox as fb\n",
        "from foolbox import PyTorchModel, accuracy, samples\n",
        "from foolbox.attacks import *\n",
        "\n",
        "device = torch.device('cuda' if torch.cuda.is_available() else 'cpu')     \n",
        "wandb.login() # login to wandb to remotely track performance\n",
        "root_dir = '/content/drive/MyDrive/ESE546_Final_Project/'"
      ],
      "metadata": {
        "id": "fYiKa6x700S-",
        "colab": {
          "base_uri": "https://localhost:8080/"
        },
        "outputId": "c871ba97-489e-4a9e-9eeb-030a748b129f"
      },
      "execution_count": null,
      "outputs": [
        {
          "output_type": "stream",
          "name": "stderr",
          "text": [
            "\u001b[34m\u001b[1mwandb\u001b[0m: \u001b[33mWARNING\u001b[0m Calling wandb.login() after wandb.init() has no effect.\n"
          ]
        }
      ]
    },
    {
      "cell_type": "markdown",
      "source": [
        "#Model Architectures"
      ],
      "metadata": {
        "id": "q_Xed6Ih5BBp"
      }
    },
    {
      "cell_type": "code",
      "source": [
        "# Defining the model (All-CNN Architecture is the same as used in previous homeworks)\n",
        "\n",
        "class View(nn.Module):\n",
        "    def __init__(self,o):\n",
        "        super().__init__()\n",
        "        self.o = o\n",
        "\n",
        "    def forward(self,x):\n",
        "        return x.view(-1, self.o)\n",
        "    \n",
        "class allcnn_t(nn.Module):\n",
        "    def __init__(self, c1=96, c2= 192):\n",
        "        super().__init__()\n",
        "        d = 0.5\n",
        "\n",
        "        def convbn(ci,co,ksz,s=1,pz=0):\n",
        "            return nn.Sequential(\n",
        "                nn.Conv2d(ci,co,ksz,stride=s,padding=pz),\n",
        "                nn.ReLU(True),\n",
        "                nn.BatchNorm2d(co))\n",
        "\n",
        "        self.m = nn.Sequential(\n",
        "            nn.Dropout(0.2),\n",
        "            convbn(3,c1,3,1,1),\n",
        "            convbn(c1,c1,3,1,1),\n",
        "            convbn(c1,c1,3,2,1),\n",
        "            nn.Dropout(d),\n",
        "            convbn(c1,c2,3,1,1),\n",
        "            convbn(c2,c2,3,1,1),\n",
        "            convbn(c2,c2,3,2,1),\n",
        "            nn.Dropout(d),\n",
        "            convbn(c2,c2,3,1,1),\n",
        "            convbn(c2,c2,3,1,1),\n",
        "            convbn(c2,10,1,1),\n",
        "            nn.AvgPool2d(8),\n",
        "            View(10))\n",
        "\n",
        "        print('Num parameters: ', sum([p.numel() for p in self.m.parameters()]))\n",
        "\n",
        "    def forward(self, x):\n",
        "        return self.m(x)\n"
      ],
      "metadata": {
        "id": "EK26sFKCtRlH"
      },
      "execution_count": null,
      "outputs": []
    },
    {
      "cell_type": "code",
      "source": [
        "def createMobileNetModel(pretrained=True, num_classes=10, feature_extracting=True):\n",
        "    # Create a model instance of the MobileNet V2 Architecture, pretrained on ImageNet\n",
        "    model = torchvision.models.mobilenet_v2(pretrained=pretrained)\n",
        "    # If specified, freeze the feature extractor\n",
        "    if feature_extracting:\n",
        "        for param in model.parameters():\n",
        "            param.requires_grad = False\n",
        "    # Replace the classifier (which outputs 1000 classes for ImageNet) with a classifier which outputs 10 classes for CIFAR-10\n",
        "    model.classifier[1] = nn.Linear(in_features=model.last_channel, out_features=num_classes)\n",
        "    return model"
      ],
      "metadata": {
        "id": "rA4V9Im65khd"
      },
      "execution_count": null,
      "outputs": []
    },
    {
      "cell_type": "markdown",
      "source": [
        "#Training and Validation Functions"
      ],
      "metadata": {
        "id": "UArn4Uq75dV-"
      }
    },
    {
      "cell_type": "code",
      "source": [
        "# validation inner loop\n",
        "def validate(model, test_loader):\n",
        "    val_correct = 0\n",
        "    epoch_val_loss = 0\n",
        "    val_total = 0\n",
        "    for i, (images, labels) in enumerate(test_loader):\n",
        "        images = images.to(device)\n",
        "        labels = labels.to(device)\n",
        "        outputs = model(images)\n",
        "        loss = criterion(outputs, labels)\n",
        "        \n",
        "        _, predicted = torch.max(outputs.data, 1)\n",
        "        val_correct += (predicted == labels).sum().item()\n",
        "        epoch_val_loss += loss.item()\n",
        "        val_total += labels.size(0)\n",
        "\n",
        "    epoch_val_error = 1.0 - (val_correct / val_total)\n",
        "    epoch_val_loss = epoch_val_loss / val_total\n",
        "    return epoch_val_error, epoch_val_loss\n",
        "\n",
        "# The training loop\n",
        "def train(net, optimizer, scheduler, criterion, train_loader, test_loader, epochs, model_name):\n",
        "    model = net.to(device)\n",
        "    total_step = len(train_loader)\n",
        "    overall_step = 0\n",
        "    for epoch in range(epochs):\n",
        "        correct = 0\n",
        "        epoch_loss = 0\n",
        "        total = 0\n",
        "        model.train()\n",
        "        for i, (images, labels) in enumerate(train_loader):\n",
        "            if scheduler is None:\n",
        "                # Update LR according to Cosine Annealing Warmup (discussed further down)\n",
        "                next_lr = lr_scheduler_impl(total_step, epoch, i)\n",
        "                for g in optimizer.param_groups:\n",
        "                    g['lr'] = next_lr\n",
        "            else:\n",
        "                next_lr = scheduler.get_last_lr()[0]\n",
        "            # Move tensors to configured device\n",
        "            images = images.to(device)\n",
        "            labels = labels.to(device)\n",
        "            # Forward Pass\n",
        "            outputs = model(images)\n",
        "            loss = criterion(outputs, labels)\n",
        "            # Compute loss and error\n",
        "            _, predicted = torch.max(outputs.data, 1)\n",
        "            iter_correct = (predicted == labels).sum().item()\n",
        "            correct += iter_correct\n",
        "            epoch_loss += loss.item()\n",
        "            total += labels.size(0)\n",
        "            # Log per weight Update\n",
        "            wandb.log({\"Iteration Training Loss\": loss.item(),\n",
        "                       \"Iteration Training Error\": 1.0 - (iter_correct / labels.size(0)),\n",
        "                       \"Iteration LR\": next_lr,\n",
        "                       \"Iteration\": epoch*total_step + i})\n",
        "            # Backpropogation and SGD\n",
        "            optimizer.zero_grad()\n",
        "            loss.backward()\n",
        "            optimizer.step()\n",
        "\n",
        "            if (i+1) % config.batch_size == 0:\n",
        "                print ('Epoch [{}/{}], Step [{}/{}], Loss: {:.4f}'.format(epoch+1, epochs, i+1, total_step, loss.item()))\n",
        "        # log training metrics\n",
        "        epoch_error = 1.0 - (correct / total)\n",
        "        epoch_loss = epoch_loss / total\n",
        "        wandb.log({\"Epoch Training Loss\": epoch_loss,\n",
        "                   \"Epoch Training Error\": epoch_error,\n",
        "                   \"Epoch LR\": next_lr,\n",
        "                   \"Epoch\": epoch,\n",
        "                   \"Iteration\": (epoch + 1)*total_step})\n",
        "\n",
        "        ################ Validation ################\n",
        "        model.eval()\n",
        "        with torch.no_grad():\n",
        "            epoch_val_error, epoch_val_loss = validate(model, test_loader)\n",
        "        if scheduler is not None:\n",
        "            scheduler.step()\n",
        "        # log validation metrics\n",
        "        wandb.log({\"Validation Loss\": epoch_val_loss,\n",
        "                   \"Validation Error\": epoch_val_error,\n",
        "                   \"Epoch\": epoch,\n",
        "                   \"Iteration\": (epoch + 1)*total_step})\n",
        "        print('Error of the network on the test images: {} %'.format(100 * epoch_val_error))\n",
        "\n",
        "        if (epoch+1) % 3 == 0 and epoch+1 != epochs:\n",
        "            if epoch+1 < 10:\n",
        "                checkpoint = \"epoch0\" + str(epoch+1) + \".h5\"\n",
        "            else:\n",
        "                checkpoint = \"epoch\" + str(epoch+1) + \".h5\"\n",
        "            save_name = root_dir + \"models/\" + model_name + \"/\" + checkpoint\n",
        "            torch.save(model.state_dict(), save_name)"
      ],
      "metadata": {
        "id": "6r9665yc5buU"
      },
      "execution_count": null,
      "outputs": []
    },
    {
      "cell_type": "markdown",
      "source": [
        "#Base Model Training"
      ],
      "metadata": {
        "id": "qpCRyyhD5jb4"
      }
    },
    {
      "cell_type": "markdown",
      "source": [
        "Train the ALL-CNN Architecture using the same final hyperparameters from Homework 4"
      ],
      "metadata": {
        "id": "Y_YqtSxLOEQB"
      }
    },
    {
      "cell_type": "code",
      "source": [
        "# WandB – Initialize a new run\n",
        "wandb.init(project=\"ese546-finalproj\",\n",
        "           group=\"Baseline Training\",\n",
        "           name=\"benchmark\")\n",
        "wandb.watch_called = False # Re-run the model without restarting the runtime, unnecessary after our next release\n",
        "\n",
        "# WandB – Config is a variable that holds and saves hyperparameters and inputs\n",
        "config = wandb.config                              # Initialize config\n",
        "config.batch_size = 128                            # input batch size for training\n",
        "config.test_batch_size = int(256 / 2.5)            # input batch size for testing\n",
        "config.epochs = 35                                 # number of epochs to train\n",
        "config.lr = 0.1                                    # learning rate\n",
        "config.momentum = 0.9                              # SGD momentum\n",
        "config.weight_decay = 1e-3                         # Weight decay\n",
        "config.nesterov = True                             # Nesterov momentum\n",
        "config.seed = 42                                   # random seed (default: 42)\n",
        "config.model_name = \"BASELINE\"                     # Save folder for model checkpoints\n",
        "config.lr_steps = [int(0.4*config.epochs), int(0.8*config.epochs)]"
      ],
      "metadata": {
        "id": "cUXET3Vfv-vJ"
      },
      "execution_count": null,
      "outputs": []
    },
    {
      "cell_type": "code",
      "source": [
        "# Set random seeds for reproducability\n",
        "torch.manual_seed(config.seed)\n",
        "random.seed(config.seed)\n",
        "np.random.seed(config.seed)"
      ],
      "metadata": {
        "id": "YsYzaCjPDj0g"
      },
      "execution_count": null,
      "outputs": []
    },
    {
      "cell_type": "code",
      "source": [
        "#  Define classes in the CIFAR dataset\n",
        "classes = ('plane', 'car', 'bird', 'cat',\n",
        "           'deer', 'dog', 'frog', 'horse', 'ship', 'truck')\n",
        "\n",
        "# Define transforms\n",
        "transform_train = transforms.Compose([transforms.AutoAugment(policy=transforms.autoaugment.AutoAugmentPolicy.CIFAR10, \n",
        "                                                             interpolation=transforms.functional.InterpolationMode.BILINEAR),\n",
        "                                      transforms.ToTensor(),\n",
        "                                      transforms.Normalize((0.5, 0.5, 0.5), (0.5, 0.5, 0.5))])\n",
        "\n",
        "transform_test = transforms.Compose([transforms.ToTensor(),\n",
        "                                      transforms.Normalize((0.5, 0.5, 0.5), (0.5, 0.5, 0.5))])\n",
        "\n",
        "# Read the datasets for training and testing, and create the corresponding dataloaders\n",
        "trainset = torchvision.datasets.CIFAR10(root='./data', train=True,\n",
        "                                        download=True, transform=transform_train)\n",
        "trainloader = torch.utils.data.DataLoader(trainset, batch_size=config.batch_size,\n",
        "                                          shuffle=True, pin_memory=True)\n",
        "\n",
        "testset = torchvision.datasets.CIFAR10(root='./data', train=False,\n",
        "                                       download=True, transform=transform_test)\n",
        "testloader = torch.utils.data.DataLoader(testset, batch_size=config.test_batch_size,\n",
        "                                         shuffle=False, pin_memory=True)\n",
        "\n",
        "# Initialize a new model\n",
        "model = allcnn_t().to(device)\n",
        "# Define the loss function as asked in the question\n",
        "criterion = nn.CrossEntropyLoss()\n",
        "# Set optimizer and scheduler\n",
        "optimizer = optim.SGD(model.parameters(), lr=config.lr, momentum=config.momentum, weight_decay=config.weight_decay, nesterov=config.nesterov)\n",
        "scheduler = optim.lr_scheduler.MultiStepLR(optimizer=optimizer, milestones=config.lr_steps)\n",
        "# Training loop called here\n",
        "train(model, optimizer, scheduler, criterion, trainloader, testloader, config.epochs, config.model_name)\n",
        "# Save the model\n",
        "final_model_name = root_dir + 'models/' + config.model_name + '/final.h5'\n",
        "torch.save(model.state_dict(), final_model_name)"
      ],
      "metadata": {
        "id": "JNn1-KWEw_Ru"
      },
      "execution_count": null,
      "outputs": []
    },
    {
      "cell_type": "markdown",
      "source": [
        "# Finding the Optimal Learning Rate"
      ],
      "metadata": {
        "id": "9GFHy-sw6rjE"
      }
    },
    {
      "cell_type": "code",
      "source": [
        "# WandB – Initialize a new run\n",
        "wandb.init(project=\"ese546-finalproj\", \n",
        "           group=\"learning_rate_finding\", \n",
        "           name=\"mobilenetv2 experiment 1\")\n",
        "wandb.watch_called = False # Re-run the model without restarting the runtime, unnecessary after our next release\n",
        "\n",
        "# WandB – Config is a variable that holds and saves hyperparameters and inputs\n",
        "config = wandb.config                              # Initialize config\n",
        "config.batch_size = 128                            # input batch size for training\n",
        "config.test_batch_size = int(256 / 2.5)            # input batch size for testing\n",
        "config.epochs = 150                                # number of epochs to train\n",
        "config.lr = 1e-5                                   # learning rate\n",
        "config.momentum = 0.9                              # SGD momentum\n",
        "config.weight_decay = 1e-3                         # Weight decay\n",
        "config.nesterov = True                             # Nesterov momentum\n",
        "config.seed = 42                                   # random seed (default: 42)"
      ],
      "metadata": {
        "id": "wpCR5wF_8x5K",
        "colab": {
          "base_uri": "https://localhost:8080/",
          "height": 317,
          "referenced_widgets": [
            "a5d79f577dd9412c8cf063c329c2e3a2",
            "c783ab3629bf4e69aadfa6a6fc1cd7bb",
            "b31405f35c84440492888f9b8bbb88be",
            "eb26a284c0894ae6baf6f88afd385015",
            "bdf0fcdf1f6245cf917c63402218467a",
            "d7d545b78ff244a1a83060dca333f1b3",
            "afc7f480f8034710872400966c42d5f3",
            "08eb0727c66641a2a8a9478c8b33ca0c"
          ]
        },
        "outputId": "5eaaf4c2-40fc-43aa-a2d9-6356b8eb485f"
      },
      "execution_count": null,
      "outputs": [
        {
          "output_type": "display_data",
          "data": {
            "text/html": [
              "Finishing last run (ID:i1nlhiw5) before initializing another..."
            ],
            "text/plain": [
              "<IPython.core.display.HTML object>"
            ]
          },
          "metadata": {}
        },
        {
          "output_type": "display_data",
          "data": {
            "text/html": [
              "<br/>Waiting for W&B process to finish, PID 802... <strong style=\"color:green\">(success).</strong>"
            ],
            "text/plain": [
              "<IPython.core.display.HTML object>"
            ]
          },
          "metadata": {}
        },
        {
          "output_type": "display_data",
          "data": {
            "application/vnd.jupyter.widget-view+json": {
              "model_id": "a5d79f577dd9412c8cf063c329c2e3a2",
              "version_minor": 0,
              "version_major": 2
            },
            "text/plain": [
              "VBox(children=(Label(value=' 0.00MB of 0.00MB uploaded (0.00MB deduped)\\r'), FloatProgress(value=1.0, max=1.0)…"
            ]
          },
          "metadata": {}
        },
        {
          "output_type": "display_data",
          "data": {
            "text/html": [
              "<style>\n",
              "    table.wandb td:nth-child(1) { padding: 0 10px; text-align: right }\n",
              "    .wandb-row { display: flex; flex-direction: row; flex-wrap: wrap; width: 100% }\n",
              "    .wandb-col { display: flex; flex-direction: column; flex-basis: 100%; flex: 1; padding: 10px; }\n",
              "    </style>\n",
              "<div class=\"wandb-row\"><div class=\"wandb-col\">\n",
              "<h3>Run history:</h3><br/><table class=\"wandb\"><tr><td>Epoch</td><td>▁▁▁▁▂▂▂▂▂▃▃▃▃▃▃▄▄▄▄▄▅▅▅▅▅▅▆▆▆▆▆▆▇▇▇▇▇███</td></tr><tr><td>LR</td><td>▁▁▁▁▁▁▁▁▁▁▁▁▁▁▁▁▁▁▁▁▁▁▁▁▁▁▁▁▁▁▁▁▁▂▂▃▃▄▆█</td></tr><tr><td>Training Loss (LR Finder)</td><td>▁▁▁▁▁▁▁▁▁▁▁▁▁▁▁▁▁▁▁▁▁▁▁▁▁▁▁▁▁▁▁▁▂▂▂▃▅▄▅█</td></tr></table><br/></div><div class=\"wandb-col\">\n",
              "<h3>Run summary:</h3><br/><table class=\"wandb\"><tr><td>Epoch</td><td>149</td></tr><tr><td>LR</td><td>14.70653</td></tr><tr><td>Training Loss (LR Finder)</td><td>1809.94092</td></tr></table>\n",
              "</div></div>\n",
              "Synced 5 W&B file(s), 0 media file(s), 0 artifact file(s) and 0 other file(s)\n",
              "<br/>Synced <strong style=\"color:#cdcd00\">mobilenetv2 experiment 1</strong>: <a href=\"https://wandb.ai/geande/ese546-finalproj/runs/i1nlhiw5\" target=\"_blank\">https://wandb.ai/geande/ese546-finalproj/runs/i1nlhiw5</a><br/>\n",
              "Find logs at: <code>./wandb/run-20211222_212237-i1nlhiw5/logs</code><br/>\n"
            ],
            "text/plain": [
              "<IPython.core.display.HTML object>"
            ]
          },
          "metadata": {}
        },
        {
          "output_type": "display_data",
          "data": {
            "text/html": [
              "Successfully finished last run (ID:i1nlhiw5). Initializing new run:<br/>"
            ],
            "text/plain": [
              "<IPython.core.display.HTML object>"
            ]
          },
          "metadata": {}
        },
        {
          "output_type": "display_data",
          "data": {
            "text/html": [
              "\n",
              "                    Syncing run <strong><a href=\"https://wandb.ai/geande/ese546-finalproj/runs/1eustmd9\" target=\"_blank\">mobilenetv2 experiment 1</a></strong> to <a href=\"https://wandb.ai/geande/ese546-finalproj\" target=\"_blank\">Weights & Biases</a> (<a href=\"https://docs.wandb.com/integrations/jupyter.html\" target=\"_blank\">docs</a>).<br/>\n",
              "\n",
              "                "
            ],
            "text/plain": [
              "<IPython.core.display.HTML object>"
            ]
          },
          "metadata": {}
        }
      ]
    },
    {
      "cell_type": "code",
      "source": [
        "# Set random seeds for reproducability\n",
        "torch.manual_seed(config.seed)\n",
        "random.seed(config.seed)\n",
        "np.random.seed(config.seed)"
      ],
      "metadata": {
        "id": "m8_AweTZD1R5"
      },
      "execution_count": null,
      "outputs": []
    },
    {
      "cell_type": "code",
      "source": [
        "def lr_finder_algo(net, optimizer, scheduler, criterion, train_loader, epochs):\n",
        "    model = net.to(device)\n",
        "    losses = []\n",
        "    for epoch, (images, labels) in enumerate(train_loader):\n",
        "        if epoch == epochs:\n",
        "            break;\n",
        "        # Move tensors to configured device\n",
        "        images = images.to(device)\n",
        "        labels = labels.to(device)\n",
        "        # Forward Pass\n",
        "        outputs = model(images)\n",
        "        loss = criterion(outputs, labels)\n",
        "        # Backpropogation and SGD\n",
        "        optimizer.zero_grad()\n",
        "        loss.backward()\n",
        "        optimizer.step()\n",
        "        curr_lr = optimizer.param_groups[0]['lr']\n",
        "        wandb.log({\"Training Loss (LR Finder)\": loss.item(),\n",
        "                   \"LR\": curr_lr,\n",
        "                   \"Epoch\": epoch})\n",
        "        losses.append(loss.item())\n",
        "        scheduler.step()\n",
        "    return losses"
      ],
      "metadata": {
        "id": "2pfuHwPG3SGZ"
      },
      "execution_count": null,
      "outputs": []
    },
    {
      "cell_type": "code",
      "source": [
        "#  Define classes in the CIFAR dataset\n",
        "classes = ('plane', 'car', 'bird', 'cat',\n",
        "           'deer', 'dog', 'frog', 'horse', 'ship', 'truck')\n",
        "\n",
        "# Define transforms\n",
        "transform_train = transforms.Compose([transforms.AutoAugment(policy=transforms.autoaugment.AutoAugmentPolicy.CIFAR10, \n",
        "                                                             interpolation=transforms.functional.InterpolationMode.BILINEAR),\n",
        "                                      transforms.ToTensor(),\n",
        "                                      transforms.Normalize((0.5, 0.5, 0.5), (0.5, 0.5, 0.5))])\n",
        "\n",
        "transform_test = transforms.Compose([transforms.ToTensor(),\n",
        "                                      transforms.Normalize((0.5, 0.5, 0.5), (0.5, 0.5, 0.5))])\n",
        "\n",
        "# Read the datasets for training and testing, and create the corresponding dataloaders\n",
        "trainset = torchvision.datasets.CIFAR10(root='./data', train=True,\n",
        "                                        download=True, transform=transform_train)\n",
        "trainloader = torch.utils.data.DataLoader(trainset, batch_size=config.batch_size,\n",
        "                                          shuffle=True, pin_memory=True)\n",
        "\n",
        "testset = torchvision.datasets.CIFAR10(root='./data', train=False,\n",
        "                                       download=True, transform=transform_test)\n",
        "testloader = torch.utils.data.DataLoader(testset, batch_size=config.test_batch_size,\n",
        "                                         shuffle=False, pin_memory=True)"
      ],
      "metadata": {
        "id": "3JSVA2Dl8IX1",
        "colab": {
          "base_uri": "https://localhost:8080/"
        },
        "outputId": "d238f5c2-f5ce-4b32-b656-11859d7e1e52"
      },
      "execution_count": null,
      "outputs": [
        {
          "output_type": "stream",
          "name": "stdout",
          "text": [
            "Files already downloaded and verified\n",
            "Files already downloaded and verified\n"
          ]
        }
      ]
    },
    {
      "cell_type": "markdown",
      "source": [
        "###All CNN Tuning"
      ],
      "metadata": {
        "id": "BN_AZ3GKCvBh"
      }
    },
    {
      "cell_type": "code",
      "source": [
        "# Initialize a new model\n",
        "model = allcnn_t().to(device)\n",
        "# Define the loss function as asked in the question\n",
        "criterion = nn.CrossEntropyLoss()\n",
        "# Set optimizer and scheduler\n",
        "optimizer = optim.SGD(model.parameters(), lr=config.lr, momentum=config.momentum, weight_decay=config.weight_decay, nesterov=config.nesterov)\n",
        "# Define Scheduler for Learning Rate Finding Algorithm\n",
        "lr_fcn = lambda epoch: 1.1\n",
        "scheduler = optim.lr_scheduler.MultiplicativeLR(optimizer, lr_fcn, last_epoch=-1, verbose=True)\n",
        "# Call Learning Rate Algorithm\n",
        "lr_losses = lr_finder_algo(model, optimizer, scheduler, criterion, trainloader, config.epochs)"
      ],
      "metadata": {
        "id": "Xr2DsfVJCt0t"
      },
      "execution_count": null,
      "outputs": []
    },
    {
      "cell_type": "markdown",
      "source": [
        "###MobileNetV2 Tuning"
      ],
      "metadata": {
        "id": "-jny7GBgCyL6"
      }
    },
    {
      "cell_type": "code",
      "source": [
        "# Initialize a new model\n",
        "model = createMobileNetModel(pretrained=True, num_classes=10, feature_extracting=False).to(device)\n",
        "# Define the loss function as asked in the question\n",
        "criterion = nn.CrossEntropyLoss()\n",
        "# Set optimizer and scheduler\n",
        "optimizer = optim.SGD(model.parameters(), lr=config.lr, momentum=config.momentum, weight_decay=config.weight_decay, nesterov=config.nesterov)\n",
        "# Define Scheduler for Learning Rate Finding Algorithm\n",
        "lr_fcn = lambda epoch: 1.1\n",
        "scheduler = optim.lr_scheduler.MultiplicativeLR(optimizer, lr_fcn, last_epoch=-1, verbose=True)\n",
        "# Call Learning Rate Algorithm\n",
        "lr_losses = lr_finder_algo(model, optimizer, scheduler, criterion, trainloader, config.epochs)"
      ],
      "metadata": {
        "colab": {
          "base_uri": "https://localhost:8080/"
        },
        "id": "TOruZkdoC10n",
        "outputId": "912e2b80-8002-40ca-8a9f-2be9e61b48fd"
      },
      "execution_count": null,
      "outputs": [
        {
          "output_type": "stream",
          "name": "stdout",
          "text": [
            "Adjusting learning rate of group 0 to 1.0000e-05.\n",
            "Adjusting learning rate of group 0 to 1.1000e-05.\n",
            "Adjusting learning rate of group 0 to 1.2100e-05.\n",
            "Adjusting learning rate of group 0 to 1.3310e-05.\n",
            "Adjusting learning rate of group 0 to 1.4641e-05.\n",
            "Adjusting learning rate of group 0 to 1.6105e-05.\n",
            "Adjusting learning rate of group 0 to 1.7716e-05.\n",
            "Adjusting learning rate of group 0 to 1.9487e-05.\n",
            "Adjusting learning rate of group 0 to 2.1436e-05.\n",
            "Adjusting learning rate of group 0 to 2.3579e-05.\n",
            "Adjusting learning rate of group 0 to 2.5937e-05.\n",
            "Adjusting learning rate of group 0 to 2.8531e-05.\n",
            "Adjusting learning rate of group 0 to 3.1384e-05.\n",
            "Adjusting learning rate of group 0 to 3.4523e-05.\n",
            "Adjusting learning rate of group 0 to 3.7975e-05.\n",
            "Adjusting learning rate of group 0 to 4.1772e-05.\n",
            "Adjusting learning rate of group 0 to 4.5950e-05.\n",
            "Adjusting learning rate of group 0 to 5.0545e-05.\n",
            "Adjusting learning rate of group 0 to 5.5599e-05.\n",
            "Adjusting learning rate of group 0 to 6.1159e-05.\n",
            "Adjusting learning rate of group 0 to 6.7275e-05.\n",
            "Adjusting learning rate of group 0 to 7.4002e-05.\n",
            "Adjusting learning rate of group 0 to 8.1403e-05.\n",
            "Adjusting learning rate of group 0 to 8.9543e-05.\n",
            "Adjusting learning rate of group 0 to 9.8497e-05.\n",
            "Adjusting learning rate of group 0 to 1.0835e-04.\n",
            "Adjusting learning rate of group 0 to 1.1918e-04.\n",
            "Adjusting learning rate of group 0 to 1.3110e-04.\n",
            "Adjusting learning rate of group 0 to 1.4421e-04.\n",
            "Adjusting learning rate of group 0 to 1.5863e-04.\n",
            "Adjusting learning rate of group 0 to 1.7449e-04.\n",
            "Adjusting learning rate of group 0 to 1.9194e-04.\n",
            "Adjusting learning rate of group 0 to 2.1114e-04.\n",
            "Adjusting learning rate of group 0 to 2.3225e-04.\n",
            "Adjusting learning rate of group 0 to 2.5548e-04.\n",
            "Adjusting learning rate of group 0 to 2.8102e-04.\n",
            "Adjusting learning rate of group 0 to 3.0913e-04.\n",
            "Adjusting learning rate of group 0 to 3.4004e-04.\n",
            "Adjusting learning rate of group 0 to 3.7404e-04.\n",
            "Adjusting learning rate of group 0 to 4.1145e-04.\n",
            "Adjusting learning rate of group 0 to 4.5259e-04.\n",
            "Adjusting learning rate of group 0 to 4.9785e-04.\n",
            "Adjusting learning rate of group 0 to 5.4764e-04.\n",
            "Adjusting learning rate of group 0 to 6.0240e-04.\n",
            "Adjusting learning rate of group 0 to 6.6264e-04.\n",
            "Adjusting learning rate of group 0 to 7.2890e-04.\n",
            "Adjusting learning rate of group 0 to 8.0180e-04.\n",
            "Adjusting learning rate of group 0 to 8.8197e-04.\n",
            "Adjusting learning rate of group 0 to 9.7017e-04.\n",
            "Adjusting learning rate of group 0 to 1.0672e-03.\n",
            "Adjusting learning rate of group 0 to 1.1739e-03.\n",
            "Adjusting learning rate of group 0 to 1.2913e-03.\n",
            "Adjusting learning rate of group 0 to 1.4204e-03.\n",
            "Adjusting learning rate of group 0 to 1.5625e-03.\n",
            "Adjusting learning rate of group 0 to 1.7187e-03.\n",
            "Adjusting learning rate of group 0 to 1.8906e-03.\n",
            "Adjusting learning rate of group 0 to 2.0797e-03.\n",
            "Adjusting learning rate of group 0 to 2.2876e-03.\n",
            "Adjusting learning rate of group 0 to 2.5164e-03.\n",
            "Adjusting learning rate of group 0 to 2.7680e-03.\n",
            "Adjusting learning rate of group 0 to 3.0448e-03.\n",
            "Adjusting learning rate of group 0 to 3.3493e-03.\n",
            "Adjusting learning rate of group 0 to 3.6842e-03.\n",
            "Adjusting learning rate of group 0 to 4.0527e-03.\n",
            "Adjusting learning rate of group 0 to 4.4579e-03.\n",
            "Adjusting learning rate of group 0 to 4.9037e-03.\n",
            "Adjusting learning rate of group 0 to 5.3941e-03.\n",
            "Adjusting learning rate of group 0 to 5.9335e-03.\n",
            "Adjusting learning rate of group 0 to 6.5268e-03.\n",
            "Adjusting learning rate of group 0 to 7.1795e-03.\n",
            "Adjusting learning rate of group 0 to 7.8975e-03.\n",
            "Adjusting learning rate of group 0 to 8.6872e-03.\n",
            "Adjusting learning rate of group 0 to 9.5559e-03.\n",
            "Adjusting learning rate of group 0 to 1.0512e-02.\n",
            "Adjusting learning rate of group 0 to 1.1563e-02.\n",
            "Adjusting learning rate of group 0 to 1.2719e-02.\n",
            "Adjusting learning rate of group 0 to 1.3991e-02.\n",
            "Adjusting learning rate of group 0 to 1.5390e-02.\n",
            "Adjusting learning rate of group 0 to 1.6929e-02.\n",
            "Adjusting learning rate of group 0 to 1.8622e-02.\n",
            "Adjusting learning rate of group 0 to 2.0484e-02.\n",
            "Adjusting learning rate of group 0 to 2.2532e-02.\n",
            "Adjusting learning rate of group 0 to 2.4786e-02.\n",
            "Adjusting learning rate of group 0 to 2.7264e-02.\n",
            "Adjusting learning rate of group 0 to 2.9991e-02.\n",
            "Adjusting learning rate of group 0 to 3.2990e-02.\n",
            "Adjusting learning rate of group 0 to 3.6289e-02.\n",
            "Adjusting learning rate of group 0 to 3.9918e-02.\n",
            "Adjusting learning rate of group 0 to 4.3909e-02.\n",
            "Adjusting learning rate of group 0 to 4.8300e-02.\n",
            "Adjusting learning rate of group 0 to 5.3130e-02.\n",
            "Adjusting learning rate of group 0 to 5.8443e-02.\n",
            "Adjusting learning rate of group 0 to 6.4288e-02.\n",
            "Adjusting learning rate of group 0 to 7.0716e-02.\n",
            "Adjusting learning rate of group 0 to 7.7788e-02.\n",
            "Adjusting learning rate of group 0 to 8.5567e-02.\n",
            "Adjusting learning rate of group 0 to 9.4123e-02.\n",
            "Adjusting learning rate of group 0 to 1.0354e-01.\n",
            "Adjusting learning rate of group 0 to 1.1389e-01.\n",
            "Adjusting learning rate of group 0 to 1.2528e-01.\n",
            "Adjusting learning rate of group 0 to 1.3781e-01.\n",
            "Adjusting learning rate of group 0 to 1.5159e-01.\n",
            "Adjusting learning rate of group 0 to 1.6675e-01.\n",
            "Adjusting learning rate of group 0 to 1.8342e-01.\n",
            "Adjusting learning rate of group 0 to 2.0176e-01.\n",
            "Adjusting learning rate of group 0 to 2.2194e-01.\n",
            "Adjusting learning rate of group 0 to 2.4413e-01.\n",
            "Adjusting learning rate of group 0 to 2.6855e-01.\n",
            "Adjusting learning rate of group 0 to 2.9540e-01.\n",
            "Adjusting learning rate of group 0 to 3.2494e-01.\n",
            "Adjusting learning rate of group 0 to 3.5743e-01.\n",
            "Adjusting learning rate of group 0 to 3.9318e-01.\n",
            "Adjusting learning rate of group 0 to 4.3249e-01.\n",
            "Adjusting learning rate of group 0 to 4.7574e-01.\n",
            "Adjusting learning rate of group 0 to 5.2332e-01.\n",
            "Adjusting learning rate of group 0 to 5.7565e-01.\n",
            "Adjusting learning rate of group 0 to 6.3322e-01.\n",
            "Adjusting learning rate of group 0 to 6.9654e-01.\n",
            "Adjusting learning rate of group 0 to 7.6619e-01.\n",
            "Adjusting learning rate of group 0 to 8.4281e-01.\n",
            "Adjusting learning rate of group 0 to 9.2709e-01.\n",
            "Adjusting learning rate of group 0 to 1.0198e+00.\n",
            "Adjusting learning rate of group 0 to 1.1218e+00.\n",
            "Adjusting learning rate of group 0 to 1.2340e+00.\n",
            "Adjusting learning rate of group 0 to 1.3574e+00.\n",
            "Adjusting learning rate of group 0 to 1.4931e+00.\n",
            "Adjusting learning rate of group 0 to 1.6424e+00.\n",
            "Adjusting learning rate of group 0 to 1.8066e+00.\n",
            "Adjusting learning rate of group 0 to 1.9873e+00.\n",
            "Adjusting learning rate of group 0 to 2.1860e+00.\n",
            "Adjusting learning rate of group 0 to 2.4046e+00.\n",
            "Adjusting learning rate of group 0 to 2.6451e+00.\n",
            "Adjusting learning rate of group 0 to 2.9096e+00.\n",
            "Adjusting learning rate of group 0 to 3.2006e+00.\n",
            "Adjusting learning rate of group 0 to 3.5206e+00.\n",
            "Adjusting learning rate of group 0 to 3.8727e+00.\n",
            "Adjusting learning rate of group 0 to 4.2600e+00.\n",
            "Adjusting learning rate of group 0 to 4.6860e+00.\n",
            "Adjusting learning rate of group 0 to 5.1545e+00.\n",
            "Adjusting learning rate of group 0 to 5.6700e+00.\n",
            "Adjusting learning rate of group 0 to 6.2370e+00.\n",
            "Adjusting learning rate of group 0 to 6.8607e+00.\n",
            "Adjusting learning rate of group 0 to 7.5468e+00.\n",
            "Adjusting learning rate of group 0 to 8.3015e+00.\n",
            "Adjusting learning rate of group 0 to 9.1316e+00.\n",
            "Adjusting learning rate of group 0 to 1.0045e+01.\n",
            "Adjusting learning rate of group 0 to 1.1049e+01.\n",
            "Adjusting learning rate of group 0 to 1.2154e+01.\n",
            "Adjusting learning rate of group 0 to 1.3370e+01.\n",
            "Adjusting learning rate of group 0 to 1.4707e+01.\n",
            "Adjusting learning rate of group 0 to 1.6177e+01.\n"
          ]
        }
      ]
    },
    {
      "cell_type": "markdown",
      "source": [
        "#Cosine Annealing with Warmup Learning Rate Schedule"
      ],
      "metadata": {
        "id": "CDrPIK3XSS14"
      }
    },
    {
      "cell_type": "code",
      "source": [
        "# WandB – Initialize a new run\n",
        "wandb.init(project=\"ese546-finalproj\", \n",
        "           group=\"Cosine Annealing\", \n",
        "           name=\"CAW LR Experiment 3\")\n",
        "wandb.watch_called = False # Re-run the model without restarting the runtime, unnecessary after our next release\n",
        "\n",
        "# WandB – Config is a variable that holds and saves hyperparameters and inputs\n",
        "config = wandb.config                              # Initialize config\n",
        "config.batch_size = 128                            # input batch size for training\n",
        "config.test_batch_size = int(256 / 2.5)            # input batch size for testing\n",
        "config.epochs = 35                                 # number of epochs to train\n",
        "config.lr = 1e-5                                   # learning rate\n",
        "config.momentum = 0.9                              # SGD momentum\n",
        "config.weight_decay = 1e-3                         # Weight decay\n",
        "config.nesterov = True                             # Nesterov momentum\n",
        "config.seed = 42                                   # random seed (default: 42)\n",
        "config.model_name = \"CAW_LR\"                     # Save folder for model checkpoints"
      ],
      "metadata": {
        "id": "0PNpbK5FbIZX"
      },
      "execution_count": null,
      "outputs": []
    },
    {
      "cell_type": "markdown",
      "source": [
        "After running a few trials of the learning rate finding algorithm on our base model and hyperparameters, we find an appropriate estimation for $\\eta^* = 0.2219$.  In order to properly implement the Cosine Annealing with Warmup Learning Schedule, we need to determine $\\eta_{max}$.  Using the same assumption from homeworks, we estimate $\\eta_{max} = \\frac{\\eta^*}{10} = 0.02219$.  This will be the initial learning rate for our implementation of the Cosine Annealing with Warmup Learning Schedule."
      ],
      "metadata": {
        "id": "LYA5uEXJAybC"
      }
    },
    {
      "cell_type": "code",
      "source": [
        "#  Define classes in the CIFAR dataset\n",
        "classes = ('plane', 'car', 'bird', 'cat',\n",
        "           'deer', 'dog', 'frog', 'horse', 'ship', 'truck')\n",
        "\n",
        "# Define transforms\n",
        "transform_train = transforms.Compose([transforms.AutoAugment(policy=transforms.autoaugment.AutoAugmentPolicy.CIFAR10, \n",
        "                                                             interpolation=transforms.functional.InterpolationMode.BILINEAR),\n",
        "                                      transforms.ToTensor(),\n",
        "                                      transforms.Normalize((0.5, 0.5, 0.5), (0.5, 0.5, 0.5))])\n",
        "\n",
        "transform_test = transforms.Compose([transforms.ToTensor(),\n",
        "                                      transforms.Normalize((0.5, 0.5, 0.5), (0.5, 0.5, 0.5))])\n",
        "\n",
        "# Read the datasets for training and testing, and create the corresponding dataloaders\n",
        "trainset = torchvision.datasets.CIFAR10(root='./data', train=True,\n",
        "                                        download=True, transform=transform_train)\n",
        "trainloader = torch.utils.data.DataLoader(trainset, batch_size=config.batch_size,\n",
        "                                          shuffle=True, pin_memory=True)\n",
        "\n",
        "testset = torchvision.datasets.CIFAR10(root='./data', train=False,\n",
        "                                       download=True, transform=transform_test)\n",
        "testloader = torch.utils.data.DataLoader(testset, batch_size=config.test_batch_size,\n",
        "                                         shuffle=False, pin_memory=True)\n",
        "\n",
        "\n",
        "eta_star = 0.2219\n",
        "eta_max = eta_star / 10.0\n",
        "\n",
        "# fixed hyperparameters used for Cosine Annealing w/ Warmup Schedule\n",
        "num_batches = len(trainloader)\n",
        "T = config.epochs * num_batches\n",
        "T_0 = int(T / 5)"
      ],
      "metadata": {
        "id": "-JAg38UM-2Bu"
      },
      "execution_count": null,
      "outputs": []
    },
    {
      "cell_type": "code",
      "source": [
        "# Cosine Annealing w/ Warmup Learning Rate Schedule\n",
        "def lr_scheduler_impl(num_batches, epoch, i):\n",
        "    t = epoch*num_batches + i\n",
        "    next_lr = 1e-5\n",
        "    if t <= T_0:\n",
        "        next_lr += (t / T_0)*eta_max\n",
        "    else:\n",
        "        next_lr += eta_max*math.cos((math.pi/2.0)*((t - T_0)/(T - T_0)))\n",
        "    return next_lr"
      ],
      "metadata": {
        "id": "c8n0ODvfBK7b"
      },
      "execution_count": null,
      "outputs": []
    },
    {
      "cell_type": "code",
      "source": [
        "# Initialize a new model\n",
        "model = allcnn_t().to(device)\n",
        "# Define the loss function\n",
        "criterion = nn.CrossEntropyLoss()\n",
        "# Set optimizer\n",
        "optimizer = optim.SGD(model.parameters(), lr=config.lr, momentum=config.momentum, weight_decay=config.weight_decay, nesterov=config.nesterov)\n",
        "# train using implementation of Cosine Annealing with Warmup Learning Rate Schedule\n",
        "train(model, optimizer, None, criterion, trainloader, testloader, config.epochs, config.model_name)\n",
        "final_model_name = root_dir + 'models/CAW_LR/final.h5'\n",
        "torch.save(model.state_dict(), final_model_name)"
      ],
      "metadata": {
        "id": "rrsTGcsrRhNd"
      },
      "execution_count": null,
      "outputs": []
    },
    {
      "cell_type": "markdown",
      "source": [
        "#Advanced Model Training: MobileNetV2"
      ],
      "metadata": {
        "id": "chVwWiMT4ocw"
      }
    },
    {
      "cell_type": "code",
      "source": [
        "# WandB – Initialize a new run\n",
        "wandb.init(project=\"ese546-finalproj\",\n",
        "           group=\"Advanced Model Training\",\n",
        "           name=\"MobileNetV2 Experiment 2\")\n",
        "wandb.watch_called = False # Re-run the model without restarting the runtime, unnecessary after our next release\n",
        "\n",
        "# WandB – Config is a variable that holds and saves hyperparameters and inputs\n",
        "config = wandb.config                              # Initialize config\n",
        "config.batch_size = 128                            # input batch size for training\n",
        "config.test_batch_size = int(256 / 2.5)            # input batch size for testing\n",
        "config.epochs = 20                                 # number of epochs to train\n",
        "config.lr = 0.02                                   # learning rate\n",
        "config.momentum = 0.7                              # SGD momentum\n",
        "config.weight_decay = 1e-4                         # Weight decay\n",
        "config.nesterov = True                             # Nesterov momentum\n",
        "config.seed = 42                                   # random seed (default: 42)\n",
        "config.model_name = \"MOBILENETV2\"                  # Save folder for model checkpoints"
      ],
      "metadata": {
        "colab": {
          "base_uri": "https://localhost:8080/",
          "height": 642,
          "referenced_widgets": [
            "8280bbcf23fd46bd8edd6e1a3e1e7b85",
            "6963df9bfdef445583e52cbb57c71777",
            "122f2d058f3843d2b58155f6c7be234c",
            "e9eba5ec41ed4776a477e7ab7a33ea03",
            "7af1117192374e2aac555d2ec62e05cd",
            "d8059738b8554b0b802034e46dba0388",
            "a386b2e31ea448b7a6ac4961a42742cc",
            "08d9e8893e674070a72a2794f10118f2"
          ]
        },
        "id": "C7kN1BSJ4n3e",
        "outputId": "94987128-2b4f-4550-9b10-924af526d65e"
      },
      "execution_count": null,
      "outputs": [
        {
          "output_type": "display_data",
          "data": {
            "text/html": [
              "Finishing last run (ID:10gy2kwu) before initializing another..."
            ],
            "text/plain": [
              "<IPython.core.display.HTML object>"
            ]
          },
          "metadata": {}
        },
        {
          "output_type": "display_data",
          "data": {
            "text/html": [
              "<br/>Waiting for W&B process to finish, PID 1697... <strong style=\"color:green\">(success).</strong>"
            ],
            "text/plain": [
              "<IPython.core.display.HTML object>"
            ]
          },
          "metadata": {}
        },
        {
          "output_type": "display_data",
          "data": {
            "application/vnd.jupyter.widget-view+json": {
              "model_id": "8280bbcf23fd46bd8edd6e1a3e1e7b85",
              "version_minor": 0,
              "version_major": 2
            },
            "text/plain": [
              "VBox(children=(Label(value=' 0.00MB of 0.00MB uploaded (0.00MB deduped)\\r'), FloatProgress(value=1.0, max=1.0)…"
            ]
          },
          "metadata": {}
        },
        {
          "output_type": "display_data",
          "data": {
            "text/html": [
              "<style>\n",
              "    table.wandb td:nth-child(1) { padding: 0 10px; text-align: right }\n",
              "    .wandb-row { display: flex; flex-direction: row; flex-wrap: wrap; width: 100% }\n",
              "    .wandb-col { display: flex; flex-direction: column; flex-basis: 100%; flex: 1; padding: 10px; }\n",
              "    </style>\n",
              "<div class=\"wandb-row\"><div class=\"wandb-col\">\n",
              "<h3>Run history:</h3><br/><table class=\"wandb\"><tr><td>Epoch</td><td>▁▁▁▁▂▂▂▂▂▂▃▃▃▃▄▄▄▄▄▄▅▅▅▅▅▅▆▆▆▆▇▇▇▇▇▇████</td></tr><tr><td>Epoch LR</td><td>████▇▇▇▆▆▅▄▄▃▃▂▂▂▁▁▁</td></tr><tr><td>Epoch Training Error</td><td>█▅▄▃▃▂▂▂▂▂▁▁▁▁▁▁▁▁▁▁</td></tr><tr><td>Epoch Training Loss</td><td>█▅▄▃▃▂▂▂▂▂▁▁▁▁▁▁▁▁▁▁</td></tr><tr><td>Iteration</td><td>▁▁▁▂▂▂▂▂▂▃▃▃▃▃▃▄▄▄▄▄▅▅▅▅▅▅▆▆▆▆▆▇▇▇▇▇▇███</td></tr><tr><td>Iteration LR</td><td>████████▇▇▇▇▇▇▆▆▆▆▅▅▄▄▄▄▃▃▃▃▂▂▂▂▂▂▁▁▁▁▁▁</td></tr><tr><td>Iteration Training Error</td><td>█▅▅▄▃▃▃▂▃▄▂▃▂▃▃▂▂▂▃▂▂▂▁▂▂▂▁▂▁▂▂▂▁▂▂▁▂▁▁▂</td></tr><tr><td>Iteration Training Loss</td><td>█▆▅▄▃▄▃▃▃▄▃▃▂▃▃▃▂▂▂▂▂▂▁▂▂▃▁▂▁▂▃▂▂▂▁▂▂▁▂▂</td></tr><tr><td>Validation Error</td><td>█▆▅▄▃▂▂▂▂▂▁▁▁▁▁▁▁▁▁▁</td></tr><tr><td>Validation Loss</td><td>█▅▄▃▃▂▂▂▂▂▁▁▁▁▁▁▁▁▁▁</td></tr></table><br/></div><div class=\"wandb-col\">\n",
              "<h3>Run summary:</h3><br/><table class=\"wandb\"><tr><td>Epoch</td><td>19</td></tr><tr><td>Epoch LR</td><td>1e-05</td></tr><tr><td>Epoch Training Error</td><td>0.26776</td></tr><tr><td>Epoch Training Loss</td><td>0.00593</td></tr><tr><td>Iteration</td><td>7820</td></tr><tr><td>Iteration LR</td><td>1e-05</td></tr><tr><td>Iteration Training Error</td><td>0.325</td></tr><tr><td>Iteration Training Loss</td><td>0.94955</td></tr><tr><td>Validation Error</td><td>0.2097</td></tr><tr><td>Validation Loss</td><td>0.0061</td></tr></table>\n",
              "</div></div>\n",
              "Synced 5 W&B file(s), 0 media file(s), 0 artifact file(s) and 0 other file(s)\n",
              "<br/>Synced <strong style=\"color:#cdcd00\">MobileNetV2 Experiment 2</strong>: <a href=\"https://wandb.ai/geande/ese546-finalproj/runs/10gy2kwu\" target=\"_blank\">https://wandb.ai/geande/ese546-finalproj/runs/10gy2kwu</a><br/>\n",
              "Find logs at: <code>./wandb/run-20211222_220835-10gy2kwu/logs</code><br/>\n"
            ],
            "text/plain": [
              "<IPython.core.display.HTML object>"
            ]
          },
          "metadata": {}
        },
        {
          "output_type": "display_data",
          "data": {
            "text/html": [
              "Successfully finished last run (ID:10gy2kwu). Initializing new run:<br/>"
            ],
            "text/plain": [
              "<IPython.core.display.HTML object>"
            ]
          },
          "metadata": {}
        },
        {
          "output_type": "display_data",
          "data": {
            "text/html": [
              "\n",
              "                    Syncing run <strong><a href=\"https://wandb.ai/geande/ese546-finalproj/runs/2gnvx2gd\" target=\"_blank\">MobileNetV2 Experiment 2</a></strong> to <a href=\"https://wandb.ai/geande/ese546-finalproj\" target=\"_blank\">Weights & Biases</a> (<a href=\"https://docs.wandb.com/integrations/jupyter.html\" target=\"_blank\">docs</a>).<br/>\n",
              "\n",
              "                "
            ],
            "text/plain": [
              "<IPython.core.display.HTML object>"
            ]
          },
          "metadata": {}
        }
      ]
    },
    {
      "cell_type": "code",
      "source": [
        "# Set random seeds for reproducability\n",
        "torch.manual_seed(config.seed)\n",
        "random.seed(config.seed)\n",
        "np.random.seed(config.seed)"
      ],
      "metadata": {
        "id": "bc0Ks-EAApgA"
      },
      "execution_count": null,
      "outputs": []
    },
    {
      "cell_type": "code",
      "source": [
        "#  Define classes in the CIFAR dataset\n",
        "classes = ('plane', 'car', 'bird', 'cat',\n",
        "           'deer', 'dog', 'frog', 'horse', 'ship', 'truck')\n",
        "\n",
        "# Define transforms\n",
        "transform_train = transforms.Compose([transforms.AutoAugment(policy=transforms.autoaugment.AutoAugmentPolicy.CIFAR10, \n",
        "                                                             interpolation=transforms.functional.InterpolationMode.BILINEAR),\n",
        "                                      transforms.ToTensor(),\n",
        "                                      transforms.Normalize((0.5, 0.5, 0.5), (0.5, 0.5, 0.5))])\n",
        "\n",
        "transform_test = transforms.Compose([transforms.ToTensor(),\n",
        "                                      transforms.Normalize((0.5, 0.5, 0.5), (0.5, 0.5, 0.5))])\n",
        "\n",
        "# Read the datasets for training and testing, and create the corresponding dataloaders\n",
        "trainset = torchvision.datasets.CIFAR10(root='./data', train=True,\n",
        "                                        download=True, transform=transform_train)\n",
        "trainloader = torch.utils.data.DataLoader(trainset, batch_size=config.batch_size,\n",
        "                                          shuffle=True, pin_memory=True)\n",
        "\n",
        "testset = torchvision.datasets.CIFAR10(root='./data', train=False,\n",
        "                                       download=True, transform=transform_test)\n",
        "testloader = torch.utils.data.DataLoader(testset, batch_size=config.test_batch_size,\n",
        "                                         shuffle=False, pin_memory=True)"
      ],
      "metadata": {
        "colab": {
          "base_uri": "https://localhost:8080/"
        },
        "id": "LN5T8bEy5CwB",
        "outputId": "5f60c142-f124-4f79-d587-e4f40929eee2"
      },
      "execution_count": null,
      "outputs": [
        {
          "output_type": "stream",
          "name": "stdout",
          "text": [
            "Files already downloaded and verified\n",
            "Files already downloaded and verified\n"
          ]
        }
      ]
    },
    {
      "cell_type": "code",
      "source": [
        "# Initialize a new model\n",
        "model = createMobileNetModel(pretrained=True, num_classes=10, feature_extracting=False).to(device)\n",
        "# Define the loss function\n",
        "criterion = nn.CrossEntropyLoss()\n",
        "# Set optimizer and scheduler\n",
        "optimizer = optim.SGD(model.parameters(), lr=config.lr, momentum=config.momentum, weight_decay=config.weight_decay, nesterov=config.nesterov)\n",
        "scheduler = optim.lr_scheduler.CosineAnnealingLR(optimizer, T_max=config.epochs)\n",
        "# train using implementation of Cosine Annealing with Warmup Learning Rate Schedule\n",
        "train(model, optimizer, scheduler, criterion, trainloader, testloader, config.epochs, config.model_name)\n",
        "final_model_name = root_dir + 'models/' + config.model_name + '/final.h5'\n",
        "torch.save(model.state_dict(), final_model_name)"
      ],
      "metadata": {
        "colab": {
          "base_uri": "https://localhost:8080/"
        },
        "id": "VTaoWsea84Fy",
        "outputId": "6ca934fa-b300-4203-f1f7-5f144a381dc4"
      },
      "execution_count": null,
      "outputs": [
        {
          "output_type": "stream",
          "name": "stdout",
          "text": [
            "Epoch [1/20], Step [128/391], Loss: 1.2095\n",
            "Epoch [1/20], Step [256/391], Loss: 1.1450\n",
            "Epoch [1/20], Step [384/391], Loss: 1.0144\n",
            "Error of the network on the test images: 27.500000000000004 %\n",
            "Epoch [2/20], Step [128/391], Loss: 0.8991\n",
            "Epoch [2/20], Step [256/391], Loss: 0.7625\n",
            "Epoch [2/20], Step [384/391], Loss: 0.6665\n",
            "Error of the network on the test images: 22.940000000000005 %\n",
            "Epoch [3/20], Step [128/391], Loss: 0.7743\n",
            "Epoch [3/20], Step [256/391], Loss: 0.9042\n",
            "Epoch [3/20], Step [384/391], Loss: 0.8467\n",
            "Error of the network on the test images: 20.909999999999997 %\n",
            "Epoch [4/20], Step [128/391], Loss: 0.7652\n",
            "Epoch [4/20], Step [256/391], Loss: 0.7061\n",
            "Epoch [4/20], Step [384/391], Loss: 0.5644\n",
            "Error of the network on the test images: 19.820000000000004 %\n",
            "Epoch [5/20], Step [128/391], Loss: 0.5864\n",
            "Epoch [5/20], Step [256/391], Loss: 0.6804\n",
            "Epoch [5/20], Step [384/391], Loss: 0.6688\n",
            "Error of the network on the test images: 19.03 %\n",
            "Epoch [6/20], Step [128/391], Loss: 0.6946\n",
            "Epoch [6/20], Step [256/391], Loss: 0.5094\n",
            "Epoch [6/20], Step [384/391], Loss: 0.7655\n",
            "Error of the network on the test images: 17.459999999999997 %\n",
            "Epoch [7/20], Step [128/391], Loss: 0.6918\n",
            "Epoch [7/20], Step [256/391], Loss: 0.4915\n",
            "Epoch [7/20], Step [384/391], Loss: 0.6325\n",
            "Error of the network on the test images: 18.45 %\n",
            "Epoch [8/20], Step [128/391], Loss: 0.6068\n",
            "Epoch [8/20], Step [256/391], Loss: 0.6597\n",
            "Epoch [8/20], Step [384/391], Loss: 0.5915\n",
            "Error of the network on the test images: 17.379999999999995 %\n",
            "Epoch [9/20], Step [128/391], Loss: 0.6244\n",
            "Epoch [9/20], Step [256/391], Loss: 0.4623\n",
            "Epoch [9/20], Step [384/391], Loss: 0.5548\n",
            "Error of the network on the test images: 16.569999999999997 %\n",
            "Epoch [10/20], Step [128/391], Loss: 0.5196\n",
            "Epoch [10/20], Step [256/391], Loss: 0.4242\n",
            "Epoch [10/20], Step [384/391], Loss: 0.4964\n",
            "Error of the network on the test images: 16.24 %\n",
            "Epoch [11/20], Step [128/391], Loss: 0.4241\n",
            "Epoch [11/20], Step [256/391], Loss: 0.5942\n",
            "Epoch [11/20], Step [384/391], Loss: 0.4157\n",
            "Error of the network on the test images: 16.159999999999997 %\n",
            "Epoch [12/20], Step [128/391], Loss: 0.4029\n",
            "Epoch [12/20], Step [256/391], Loss: 0.4556\n",
            "Epoch [12/20], Step [384/391], Loss: 0.4865\n",
            "Error of the network on the test images: 15.849999999999998 %\n",
            "Epoch [13/20], Step [128/391], Loss: 0.3851\n",
            "Epoch [13/20], Step [256/391], Loss: 0.4092\n",
            "Epoch [13/20], Step [384/391], Loss: 0.3135\n",
            "Error of the network on the test images: 15.900000000000002 %\n",
            "Epoch [14/20], Step [128/391], Loss: 0.3456\n",
            "Epoch [14/20], Step [256/391], Loss: 0.3766\n",
            "Epoch [14/20], Step [384/391], Loss: 0.5435\n",
            "Error of the network on the test images: 15.569999999999995 %\n",
            "Epoch [15/20], Step [128/391], Loss: 0.3165\n",
            "Epoch [15/20], Step [256/391], Loss: 0.3283\n",
            "Epoch [15/20], Step [384/391], Loss: 0.3921\n",
            "Error of the network on the test images: 15.480000000000004 %\n",
            "Epoch [16/20], Step [128/391], Loss: 0.4069\n",
            "Epoch [16/20], Step [256/391], Loss: 0.3881\n",
            "Epoch [16/20], Step [384/391], Loss: 0.3915\n",
            "Error of the network on the test images: 15.049999999999997 %\n",
            "Epoch [17/20], Step [128/391], Loss: 0.3183\n",
            "Epoch [17/20], Step [256/391], Loss: 0.4189\n",
            "Epoch [17/20], Step [384/391], Loss: 0.3258\n",
            "Error of the network on the test images: 15.000000000000002 %\n",
            "Epoch [18/20], Step [128/391], Loss: 0.4614\n",
            "Epoch [18/20], Step [256/391], Loss: 0.3403\n",
            "Epoch [18/20], Step [384/391], Loss: 0.3175\n",
            "Error of the network on the test images: 14.849999999999996 %\n",
            "Epoch [19/20], Step [128/391], Loss: 0.3545\n",
            "Epoch [19/20], Step [256/391], Loss: 0.3880\n",
            "Epoch [19/20], Step [384/391], Loss: 0.3634\n",
            "Error of the network on the test images: 14.82 %\n",
            "Epoch [20/20], Step [128/391], Loss: 0.3535\n",
            "Epoch [20/20], Step [256/391], Loss: 0.3975\n",
            "Epoch [20/20], Step [384/391], Loss: 0.3739\n",
            "Error of the network on the test images: 14.770000000000005 %\n"
          ]
        }
      ]
    },
    {
      "cell_type": "markdown",
      "source": [
        "#Feature Squeezing"
      ],
      "metadata": {
        "id": "INY-GHuKm3X9"
      }
    },
    {
      "cell_type": "markdown",
      "source": [
        "Feature Squeezing is a technique proposed in [this paper](https://arxiv.org/abs/1704.01155) which can be used to detect adversarial samples.  The paper posits that at the time (2017), most techniques for achieving adversarial robustness are too cumbersome and heavy in computation.  The paper does a great job of laying the framework for interpretting the surrounding literature and landscape of adversarial robustness.  In this section, we implement the two feature squeezing techniques used in the aforementioned paper."
      ],
      "metadata": {
        "id": "JwTupp0qm8Xw"
      }
    },
    {
      "cell_type": "markdown",
      "source": [
        "###Color Bit-Depth Reduction"
      ],
      "metadata": {
        "id": "74bNleUJy90i"
      }
    },
    {
      "cell_type": "markdown",
      "source": [
        "Color Bit-Depth is the length of bit representation for a given range of pixel values.  For instance, 8-bit gray-scale images can have pixel values [0,255], and 24-bit RGB images can have pixel values [0,255] for each of its channels.  In the Feature Squeezing Paper, they describe a technique to reduce the color bit-depth of pixels in an image.  In their paper, the authors find that 'squeezing' bit-depth from 8-bit to 5-bit achieves reasonable adversarial detection performance and high legitimate classification accuracy, while squeezing to a bit-depth of 4 achieves high adversarial detection performance at the expense of reduced legitimate classification accuracy. It is fairly simple to implement the pixel squeezing technique using numpy.  Given that we are squeezing from 8-bit channels in the CIFAR-10 dataset, we can first assume that the incoming image has pixel values from 0 to 255 for each channel.  In order to downsample to color bit-depth $i$, we first divide our input by 255 to normalize it to [0,1].  Then, we can multiply and round these normalized values by $2^i - 1$ to get the reduced bit-depth image."
      ],
      "metadata": {
        "id": "2tip_DywBhL0"
      }
    },
    {
      "cell_type": "code",
      "source": [
        "# Color Bit-Depth Reduction (following Feature Squeezing Paper)\n",
        "def bitDepthReduction(batch, reduced_depth):\n",
        "    '''\n",
        "        inputs:\n",
        "            batch: tensor of samples from the CIFAR-10 dataset (8-bit normed to [-1, 1])\n",
        "            reduced_depth: int for the color-bit depth to downsample to \n",
        "        outputs:\n",
        "            r_batch: a tensor of squeezed samples from the CIFAR-10 dataset (i-bit normed to [-1, 1])\n",
        "    '''\n",
        "    if reduced_depth > 7 or reduced_depth < 1:\n",
        "        return False; # bad output that will stop the code\n",
        "    \n",
        "    # make a copy so their is no interference\n",
        "    r_batch = torch.clone(batch)\n",
        "    # remap pixel values from [-1, 1] to [0, 1]\n",
        "    r_batch = (r_batch + 1.0) / 2.0\n",
        "    # determine reduced pixel range from reduced bit-depth\n",
        "    rd = 2.0**reduced_depth - 1.0\n",
        "    # map pixel values to reduced pixel range (ints), then remap resulting images to [-1, 1] \n",
        "    r_batch = torch.round(r_batch * rd)\n",
        "    r_batch = 2.0*(r_batch / rd) - 1.0\n",
        "    return r_batch;"
      ],
      "metadata": {
        "id": "11GKTAv-mzvF"
      },
      "execution_count": null,
      "outputs": []
    },
    {
      "cell_type": "markdown",
      "source": [
        "###Smoothing (Local and Non-local)"
      ],
      "metadata": {
        "id": "rL4a8rQJzEri"
      }
    },
    {
      "cell_type": "markdown",
      "source": [
        "Local Smoothing is also known as blur.  Local smoothing looks at pixels in a a close neighborhood (1-2 pixels away), and uses a sliding window filter to make neighboring pixels more similar.  In the paper, it is suggested that a sliding window median-filter is particularly strong against $L_0$ Attacks.  Since our goal is to analyze for $L_2$ Attacks, we will try straying away from the paper and implementing a 'mean' filter."
      ],
      "metadata": {
        "id": "9Ir6acTpnuw7"
      }
    },
    {
      "cell_type": "code",
      "source": [
        "# Local Smoothing using mean filter (following Feature Squeezing Paper)\n",
        "def localSmoothing(batch, window_size):\n",
        "    '''\n",
        "        inputs:\n",
        "            batch: tensor of samples from the CIFAR-10 dataset (8-bit normed to [-1, 1])\n",
        "            window_size: int for the size of the mean filter\n",
        "        outputs:\n",
        "            s_batch: a tensor of squeezed samples from the CIFAR-10 dataset (8-bit blurred, normed to [-1, 1])\n",
        "    '''\n",
        "    s_batch = torch.clone(batch)\n",
        "    for i in range(len(batch)):\n",
        "        img = batch[i].cpu()\n",
        "        for j in range(len(img)):\n",
        "            s_img = ndimage.uniform_filter(img[j], size=window_size)\n",
        "            s_img = torch.tensor(s_img)\n",
        "            s_batch[i,j,:,:] = s_img\n",
        "    s_batch = s_batch.to(device)\n",
        "    return s_batch;"
      ],
      "metadata": {
        "id": "D159S1rmzRMD"
      },
      "execution_count": null,
      "outputs": []
    },
    {
      "cell_type": "markdown",
      "source": [
        "Non-local Smoothing is slightly less intuitive than local smoothing.  Non-local smoothing blurs similar pixels in a much larger area than local smoothing.  The general idea of this squeezing technique is to find similar patches in an image and use a weighting kernel like a Gaussian to filter over 'neighboring' patches.  In this case, we use the same methodology described in the paper, an algorithm called non-local means, leveraging the skimage implementation.  The function used to perform non-local smoothing, denoised_img() takes in three main parameters which control the maximum search distance for finding similar patches, the size of the sliding window, and the gaussian kernel strength."
      ],
      "metadata": {
        "id": "efSlwCA2TEYN"
      }
    },
    {
      "cell_type": "code",
      "source": [
        "def nonLocalSmoothing(batch, a, b, c):\n",
        "    '''\n",
        "        inputs:\n",
        "            batch: tensor of samples from the CIFAR-10 dataset (8-bit normed to [-1, 1])\n",
        "            a: int for the maximum search distance for finding similar patches\n",
        "            b: int for the size of patches\n",
        "            c: float for the kernel strength (closer to zero means less blurring but a noisier image)\n",
        "        outputs:\n",
        "            nl_batch: a tensor of squeezed samples from the CIFAR-10 dataset (8-bit nl-blurred, normed to [-1, 1])\n",
        "    '''\n",
        "    nl_batch = torch.clone(batch).cpu()\n",
        "    for i in range(len(batch)):\n",
        "        img = torch.clone(nl_batch[i]).permute(1, 2, 0).numpy()\n",
        "        denoised_img = denoise_nl_means(image=img,\n",
        "                                        patch_size=b,\n",
        "                                        patch_distance=a,\n",
        "                                        h=c,\n",
        "                                        multichannel=True,\n",
        "                                        preserve_range=True)\n",
        "        denoised_img = torch.from_numpy(denoised_img).permute(2, 0, 1)\n",
        "        nl_batch[i] = denoised_img\n",
        "    nl_batch = nl_batch.to(device)\n",
        "    return nl_batch;"
      ],
      "metadata": {
        "id": "_qM1QpBHVLyz"
      },
      "execution_count": null,
      "outputs": []
    },
    {
      "cell_type": "markdown",
      "source": [
        "### Squeezer Demo"
      ],
      "metadata": {
        "id": "L90XWMuxSNcc"
      }
    },
    {
      "cell_type": "code",
      "source": [
        "#  Define classes in the CIFAR dataset\n",
        "classes = ('plane', 'car', 'bird', 'cat',\n",
        "           'deer', 'dog', 'frog', 'horse', 'ship', 'truck')\n",
        "\n",
        "# Define transforms\n",
        "transform_train = transforms.Compose([transforms.AutoAugment(policy=transforms.autoaugment.AutoAugmentPolicy.CIFAR10, \n",
        "                                                             interpolation=transforms.functional.InterpolationMode.BILINEAR),\n",
        "                                      transforms.ToTensor(),\n",
        "                                      transforms.Normalize((0.5, 0.5, 0.5), (0.5, 0.5, 0.5))])\n",
        "\n",
        "transform_test = transforms.Compose([transforms.ToTensor(),\n",
        "                                      transforms.Normalize((0.5, 0.5, 0.5), (0.5, 0.5, 0.5))])\n",
        "\n",
        "# Read the datasets for training and testing, and create the corresponding dataloaders\n",
        "trainset = torchvision.datasets.CIFAR10(root='./data', train=True,\n",
        "                                        download=True, transform=transforms.ToTensor())\n",
        "\n",
        "trainloader = torch.utils.data.DataLoader(trainset, batch_size=2,\n",
        "                                         shuffle=True, pin_memory=True)"
      ],
      "metadata": {
        "colab": {
          "base_uri": "https://localhost:8080/",
          "referenced_widgets": [
            "825a610b472e49aca8eb23072be3412c",
            "7445bd80fd8846a3a9d5040c70046bc5",
            "b411e51fd5b24ae79577359d9a2c3551",
            "de84cf4534b34849b0ef2a8591722056",
            "b7ccf512d50442fc953ebb6e4134bb04",
            "c0ac6cf73d2746ab86078b1eac1a8445",
            "4c8a7e40cac1461399ec71f40e356f64",
            "eb5733db63824a57934abc5ca766b971",
            "6e2ee393cfda40f89c93fb1aa6b69c56",
            "21cefdf6905143508b85a4947b97ca11",
            "8aecf80b9d234e85af8b2d644b64700b"
          ]
        },
        "id": "e6V59qFua9Tf",
        "outputId": "997899e9-3248-458a-a063-d58be2a4e04a"
      },
      "execution_count": null,
      "outputs": [
        {
          "output_type": "stream",
          "name": "stdout",
          "text": [
            "Downloading https://www.cs.toronto.edu/~kriz/cifar-10-python.tar.gz to ./data/cifar-10-python.tar.gz\n"
          ]
        },
        {
          "output_type": "display_data",
          "data": {
            "application/vnd.jupyter.widget-view+json": {
              "model_id": "825a610b472e49aca8eb23072be3412c",
              "version_minor": 0,
              "version_major": 2
            },
            "text/plain": [
              "  0%|          | 0/170498071 [00:00<?, ?it/s]"
            ]
          },
          "metadata": {}
        },
        {
          "output_type": "stream",
          "name": "stdout",
          "text": [
            "Extracting ./data/cifar-10-python.tar.gz to ./data\n"
          ]
        }
      ]
    },
    {
      "cell_type": "code",
      "source": [
        "batch = next(iter(trainloader))\n",
        "b_x, b_y = batch\n",
        "num_squeezes = 5\n",
        "a, b, c = 15, 3, 0.1\n",
        "results = torch.empty((3*num_squeezes, b_x.shape[0], 3, 32, 32))\n",
        "for window_size in range(num_squeezes, 0, -1):\n",
        "    r_x = bitDepthReduction(b_x, num_squeezes - window_size)\n",
        "    s_x = localSmoothing(b_x, window_size)\n",
        "    nl_x = nonLocalSmoothing(s_x, a, b, c)\n",
        "    results[window_size - 1] = r_x\n",
        "    results[num_squeezes + window_size - 1] = s_x\n",
        "    results[2*num_squeezes + window_size - 1] = nl_x\n",
        "\n",
        "fig, ax = plt.subplots(nrows=3*len(b_x), ncols=num_squeezes+1, figsize=(20, 20))\n",
        "\n",
        "for i in range(0, 3*len(b_x), 3):\n",
        "    im = b_x[int(i / 2)]\n",
        "    ax[i, 0].imshow(im.permute((1, 2, 0)).numpy())\n",
        "    ax[i, 0].set_title('8-bit Sample (' + str(classes[b_y[int(i / 2)]]) + ')')\n",
        "    ax[i, 0].axis('off')\n",
        "    ax[i + 1, 0].imshow(im.permute((1, 2, 0)).numpy())\n",
        "    ax[i + 1, 0].set_title('Original Sample (' + str(classes[b_y[int(i / 2)]]) + ')')\n",
        "    ax[i + 1, 0].axis('off')\n",
        "    ax[i + 2, 0].imshow(results[2*num_squeezes][int(i / 3)].permute((1, 2, 0)).numpy())\n",
        "    ax[i + 2, 0].set_title('Original Sample (' + str(classes[b_y[int(i / 2)]]) + ')')\n",
        "    ax[i + 2, 0].axis('off')\n",
        "    for j in range(1, num_squeezes+1):\n",
        "        plot_triple = (results[j - 1][int(i / 3)], results[j+num_squeezes - 1][int(i / 3)], results[j+2*num_squeezes - 1][int(i / 3)])\n",
        "        ax[i, j].imshow(plot_triple[0].permute((1, 2, 0)).numpy())\n",
        "        ax[i, j].set_title(str(num_squeezes - j + 1) + '-bit Sample')\n",
        "        ax[i, j].axis('off')\n",
        "        ax[i + 1, j].imshow(plot_triple[1].permute((1, 2, 0)).numpy())\n",
        "        ax[i + 1, j].set_title(str(j) + 'x' + str(j) + ' blurred Sample')\n",
        "        ax[i + 1, j].axis('off')\n",
        "        ax[i + 2, j].imshow(plot_triple[2].permute((1, 2, 0)).numpy())\n",
        "        ax[i + 2, j].set_title(str(j) + 'x' + str(j) + ' Spatially Smoothed Sample')\n",
        "        ax[i + 2, j].axis('off')"
      ],
      "metadata": {
        "colab": {
          "base_uri": "https://localhost:8080/"
        },
        "id": "DTwebx6YrB5g",
        "outputId": "bf539f93-399a-4fda-ebe7-c6c6b6b0d6d7"
      },
      "execution_count": null,
      "outputs": [
        {
          "output_type": "display_data",
          "data": {
            "image/png": "[encoded data removed]",
            "text/plain": [
              "<Figure size 1440x1440 with 36 Axes>"
            ]
          },
          "metadata": {
            "needs_background": "light"
          }
        }
      ]
    },
    {
      "cell_type": "code",
      "source": [
        "# Using the paper and skimage documentation, we settle on these parameters for squeezing.\n",
        "\n",
        "feature_squeezer_param_dict = {\"bit_depth\": 5,\n",
        "                               \"local_window\": 2, \n",
        "                               \"nonlocal_params\": (15, 3, 0.1)}"
      ],
      "metadata": {
        "id": "dFXb7A2sTAib"
      },
      "execution_count": null,
      "outputs": []
    },
    {
      "cell_type": "markdown",
      "source": [
        "# Benchmark adversarial robustness for classification models"
      ],
      "metadata": {
        "id": "RelrIudrUhm2"
      }
    },
    {
      "cell_type": "code",
      "source": [
        "def log_adversarial(wandb_images, wandb_labels, wandb_preds, success=None, wandb_perturbations=None):\n",
        "    logging_images = []\n",
        "    if wandb_perturbations is not None:\n",
        "        logging_perturbations = []\n",
        "    for i, image in enumerate(wandb_images):\n",
        "        pred = wandb_preds[i]\n",
        "        y_pred = torch.argmax(pred, dim=0).item()\n",
        "        label = wandb_labels[i].item()\n",
        "        if label == y_pred:\n",
        "            if success is None:\n",
        "                grouping = 'Correctly Classified, ' + classes[y_pred]\n",
        "            else:\n",
        "                grouping = 'Correctly Classified, ' + classes[y_pred] + ' (Adversarial)'\n",
        "            caption = 'Pred: ' + classes[y_pred] + ', Confidence: ' + str(nn.functional.softmax(pred, dim=0)[y_pred].item())\n",
        "        else:\n",
        "            if success is None:\n",
        "                grouping = 'Incorrectly Classified, ' + classes[label] \n",
        "            else:\n",
        "                grouping = 'Incorrectly Classified, ' + classes[label] + ' (Adversarial)'\n",
        "            caption = 'pred: ' + classes[y_pred] + ', Confidence: ' + str(nn.functional.softmax(pred, dim=0)[y_pred].item())\n",
        "        logging_images.append(wandb.Image(image.detach().cpu().permute(1, 2, 0).numpy(), grouping=grouping, caption=caption))\n",
        "        if wandb_perturbations is not None:\n",
        "            logging_perturbations.append(wandb.Image(wandb_perturbations[i].detach().cpu().permute(1, 2, 0).numpy(), grouping=grouping, caption=caption))\n",
        "    if success is None:\n",
        "        wandb.log({\"Unperturbed Samples\": logging_images})\n",
        "    else:\n",
        "        wandb.log({\"Adversarial Samples\": logging_images})\n",
        "    if wandb_perturbations is not None:\n",
        "        wandb.log({\"Perturbations\": logging_perturbations})"
      ],
      "metadata": {
        "id": "4wv0FWtwTBxD"
      },
      "execution_count": null,
      "outputs": []
    },
    {
      "cell_type": "code",
      "source": [
        "# evaluate ALL-CNN Architecture on adversarial attacks.\n",
        "\n",
        "# Define classes in the CIFAR dataset\n",
        "classes = ('plane', 'car', 'bird', 'cat', 'deer', 'dog', 'frog', 'horse', 'ship', 'truck')\n",
        "\n",
        "model_paths = [root_dir + 'models/BASELINE/final.h5']\n",
        "model_paths.append(root_dir + 'models/CAW_LR/final.h5')\n",
        "\n",
        "attack_arr = [(\"L2 Fast Gradient Attack\", \"(random_start=False)\"),\n",
        "              (\"Linf Fast Gradient Attack\", \"(random_start=False)\"),\n",
        "              (\"Salt And Pepper Noise Attack\", \"(steps=1000, across_channels=True, channel_axis=-3)\"),\n",
        "              (\"L2 DeepFool Attack\", \"(steps=50, candidates=10, overshoot=0.02, loss='logits')\"),\n",
        "              (\"L2 Carlini Wagner Attack\", \"(binary_search_steps=9, steps=3000, stepsize=0.01, confidence=0, initial_const=0.001, abort_early=True)\"),\n",
        "              (\"L2 Projected Gradient Descent Attack\", \"(rel_stepsize=0.025, abs_stepsize=None, steps=50, random_start=True)\")]\n",
        "\n",
        "for i, (attack_name, func_params) in enumerate(attack_arr):\n",
        "    for trial in range(1, 6):\n",
        "        for model_path in model_paths:\n",
        "            if 'BASELINE' in model_path:\n",
        "                group = 'Baseline Attack Experiments'\n",
        "                name = 'Baseline ' + attack_name + ' Experiment ' + str(trial + 1)\n",
        "            elif 'CAW_LR' in model_path:\n",
        "                group = 'CAW_LR Attack Experiments'\n",
        "                name = 'CAW_LR ' + attack_name + ' Experiment ' + str(trial + 1)\n",
        "            run = wandb.init(project=\"ese546-finalproj\",\n",
        "                            group=group,\n",
        "                            name=name,\n",
        "                            reinit=True)\n",
        "            with run:\n",
        "                if 'BASELINE' in model_path or 'CAW_LR' in model_path:\n",
        "                    model = allcnn_t() # Load saved baseline models\n",
        "                model.load_state_dict(deepcopy(torch.load(model_path)))\n",
        "                model = model.to(device)\n",
        "                model.eval()\n",
        "\n",
        "                # Use FoolBox to create an easily attackable model\n",
        "                preprocessing = dict(mean=[0.5, 0.5, 0.5], std=[0.5, 0.5, 0.5], axis=-3)\n",
        "                # bounds for the image into preprocessing steps (PIL image is [0, 1])\n",
        "                bounds = (0, 1)\n",
        "                # Create a foolbox version of our baseline model\n",
        "                model_fool = PyTorchModel(model, bounds=bounds, device=device, preprocessing=preprocessing)\n",
        "\n",
        "                # load 16 test images from the FoolBox CIFAR-10 library and for sanity check, test model accuracy on unperturbed inputs.\n",
        "                images, labels = ep.astensors(*samples(model_fool, dataset='cifar10', batchsize=16))\n",
        "                clean_acc = accuracy(model_fool, images, labels)\n",
        "\n",
        "                wandb_images = deepcopy(images).raw\n",
        "                wandb_labels = deepcopy(labels).raw\n",
        "                wandb_preds = model_fool(deepcopy(images)).raw\n",
        "                log_adversarial(wandb_images, wandb_labels, wandb_preds)\n",
        "\n",
        "                # Initialize an Attack\n",
        "                attack_name = attack_name.replace(\" \", \"\")\n",
        "                attack = eval(attack_name+func_params)\n",
        "                # Define different scales of perturbation\n",
        "                epsilons = np.linspace(0.0, 1.0, num=26)\n",
        "                # run Adversarial Attack\n",
        "                _, advs, success = attack(model_fool, images, labels, epsilons=epsilons)\n",
        "\n",
        "                # determine the robust accuracy (accuracy against adversarial attack)\n",
        "                robust_accuracy = 1 - success.float32().mean(axis=-1)\n",
        "\n",
        "                # log adversarial attacks and robust accuracy \n",
        "                for i, (eps, acc) in enumerate(zip(epsilons, robust_accuracy)):\n",
        "                    wandb_adv_preds = model_fool(deepcopy(advs[i])).raw\n",
        "                    wandb.log({\"Epsilon Magnitude\": eps,\n",
        "                               \"Robust Accuracy\":   acc.item()})\n",
        "                    wandb_adv_images = deepcopy(advs[i]).raw\n",
        "                    wandb_perturbations = wandb_adv_images - wandb_images\n",
        "                    if i % 4 == 0:\n",
        "                        log_adversarial(wandb_adv_images, \n",
        "                                        wandb_labels, \n",
        "                                        wandb_adv_preds, \n",
        "                                        deepcopy(success[i]).raw, \n",
        "                                        deepcopy(wandb_perturbations))"
      ],
      "metadata": {
        "id": "v0w2FXaPYp7Y"
      },
      "execution_count": null,
      "outputs": []
    },
    {
      "cell_type": "markdown",
      "source": [
        "# Create Adversarial Detection Dataset"
      ],
      "metadata": {
        "id": "rptqbKc_gkm9"
      }
    },
    {
      "cell_type": "code",
      "source": [
        "# Define classes in the CIFAR dataset\n",
        "\n",
        "# Load saved baseline model\n",
        "baseline_path = root_dir + 'models/BASELINE/final.h5'\n",
        "baseline_model = allcnn_t()\n",
        "baseline_model.load_state_dict(deepcopy(torch.load(baseline_path)))\n",
        "baseline_model = baseline_model.to(device)\n",
        "baseline_model.eval()\n",
        "\n",
        "# Use FoolBox to create an easily attackable model\n",
        "preprocessing = dict(mean=[0.5, 0.5, 0.5], std=[0.5, 0.5, 0.5], axis=-3)\n",
        "# bounds for the image into preprocessing steps (PIL image is [0, 1])\n",
        "bounds = (0, 1)\n",
        "# Create a foolbox version of our baseline model\n",
        "baseline_fool = PyTorchModel(baseline_model, bounds=bounds, device=device, preprocessing=preprocessing)\n",
        "\n",
        "# Use the test dataset to generate adversarial samples for training our detector later on\n",
        "transform_test = transforms.Compose([transforms.ToTensor(),\n",
        "                                      transforms.Normalize((0.5, 0.5, 0.5), (0.5, 0.5, 0.5))])\n",
        "testset = torchvision.datasets.CIFAR10(root='./data', train=False,\n",
        "                                       download=True, transform=transform_test)\n",
        "testloader = torch.utils.data.DataLoader(testset, batch_size=20,\n",
        "                                         shuffle=False, pin_memory=True)\n",
        "\n",
        "epsilons = np.linspace(0.0, 0.5, num=5)\n",
        "labels = torch.empty((10000, ), device=device)\n",
        "data_attack = fb.attacks.DatasetAttack(distance=fb.distances.LpDistance(2))\n",
        "for i, batch in enumerate(testloader):\n",
        "    x, y = batch\n",
        "    x, y = x.to(device), y.to(device)\n",
        "    data_attack.feed(baseline_fool, x)\n",
        "    data_attack.process_raw()\n",
        "    labels[20*i:20*i+20] = y\n",
        "X_data = data_attack.inputs\n",
        "y_preds = data_attack.outputs\n",
        "legitimate_trainset = TensorDataset(deepcopy(X_data).raw, deepcopy(labels))\n",
        "torch.save(deepcopy(X_data).raw, '/content/drive/MyDrive/ESE546_Final_Project/data/AdversarialDetectionTrainingData-Legitimate.pt')\n",
        "torch.save(deepcopy(labels), '/content/drive/MyDrive/ESE546_Final_Project/data/AdversarialDetectionTrainingLabels-Legitimate.pt')"
      ],
      "metadata": {
        "colab": {
          "base_uri": "https://localhost:8080/"
        },
        "id": "NUFB6_N9TgrL",
        "outputId": "4664a911-7635-4c26-907d-98b5e2cfc11f"
      },
      "execution_count": null,
      "outputs": [
        {
          "output_type": "stream",
          "name": "stdout",
          "text": [
            "Num parameters:  1667166\n",
            "Files already downloaded and verified\n"
          ]
        }
      ]
    },
    {
      "cell_type": "code",
      "source": [
        "# Create Adversarial Samples for Training\n",
        "\n",
        "for i in range(0, 10000, 20):\n",
        "    _, advs, success = data_attack(baseline_fool, X_data[i:i+20], labels[i:i+20], epsilons=epsilons)\n",
        "    adv_tensor = torch.empty((len(advs), advs[0].shape[0], 3, 32, 32))\n",
        "    adv_labels = torch.empty((len(advs), advs[0].shape[0], 2))\n",
        "    for j, sample in enumerate(advs):\n",
        "        adv_tensor[j] = sample.raw\n",
        "        adv_labels[j] = torch.vstack((labels[i:i+20], torch.ones((20, ), device=device))).T\n",
        "    if i == 0:\n",
        "        X_data_adversarial = adv_tensor\n",
        "        labels_adversarial = adv_labels\n",
        "    elif adv_tensor.shape[1] == X_data_adversarial.shape[1]:\n",
        "        X_data_adversarial = torch.vstack((X_data_adversarial, adv_tensor))\n",
        "        labels_adversarial = torch.vstack((labels_adversarial, adv_labels))\n",
        "\n",
        "adversarial_trainset = TensorDataset(deepcopy(X_data_adversarial), deepcopy(labels_adversarial))\n",
        "torch.save(deepcopy(X_data_adversarial), '/content/drive/MyDrive/ESE546_Final_Project/data/AdversarialDetectionTrainingData-Adversarial.pt')\n",
        "torch.save(deepcopy(labels_adversarial), '/content/drive/MyDrive/ESE546_Final_Project/data/AdversarialDetectionTrainingLabels-Adversarial.pt')"
      ],
      "metadata": {
        "id": "b0UErtjp0j_A"
      },
      "execution_count": null,
      "outputs": []
    },
    {
      "cell_type": "code",
      "source": [
        "# Create a Dataset with mixed adversarial samples and legitimate samples (evenly distributed)\n",
        "X_train_detection = torch.empty((2000, 3, 32, 32))\n",
        "y_train_detection = torch.empty((2000, 2))\n",
        "adversarial_inds = torch.randperm(2500)[:50]\n",
        "counter = 0\n",
        "for el in adversarial_inds:\n",
        "    x, y = adversarial_trainset[el]\n",
        "    for i in range(len(x)):\n",
        "        X_train_detection[counter+i] = x[i]\n",
        "        y_train_detection[counter+i] = y[i]\n",
        "    counter += len(x)\n",
        "\n",
        "legitimate_inds = torch.randperm(10000)[:1000]\n",
        "for el in legitimate_inds:\n",
        "    x, y = legitimate_trainset[el]\n",
        "    X_train_detection[counter] = x\n",
        "    y_train_detection[counter] = torch.tensor([y, 0.])\n",
        "    counter += 1\n",
        "detectionset = TensorDataset(X_train_detection, y_train_detection)"
      ],
      "metadata": {
        "id": "jX4-d6lN0CGK"
      },
      "execution_count": null,
      "outputs": []
    },
    {
      "cell_type": "markdown",
      "source": [
        "#Feature Squeezing Network"
      ],
      "metadata": {
        "id": "QF3VmliGAww9"
      }
    },
    {
      "cell_type": "code",
      "source": [
        "# WandB – Initialize a new run\n",
        "wandb.init(project=\"ese546-finalproj\",\n",
        "           group=\"Feature Squeezing Threshold Finding\",\n",
        "           name=\"Bit-Depth Reduction Experiment 3\")\n",
        "wandb.watch_called = False # Re-run the model without restarting the runtime, unnecessary after our next release\n",
        "\n",
        "# WandB – Config is a variable that holds and saves hyperparameters and inputs\n",
        "config = wandb.config                               # Initialize config\n",
        "config.batch_size = 1                               # input batch size for training\n",
        "#config.test_batch_size = int(256 / 2.5)            # input batch size for testing\n",
        "#config.epochs = 35                                 # number of epochs to train\n",
        "#config.lr = 0.1                                    # learning rate\n",
        "#config.momentum = 0.9                              # SGD momentum\n",
        "#config.weight_decay = 1e-3                         # Weight decay\n",
        "#config.nesterov = True                             # Nesterov momentum\n",
        "#config.seed = 42                                   # random seed (default: 42)\n",
        "#config.lr_steps = [int(0.4*config.epochs), int(0.8*config.epochs)]"
      ],
      "metadata": {
        "colab": {
          "base_uri": "https://localhost:8080/",
          "height": 52
        },
        "id": "_yKPgvC4cD4q",
        "outputId": "1ea4d73c-4f76-4c5b-a3dc-2bf5af97bd6a"
      },
      "execution_count": null,
      "outputs": [
        {
          "output_type": "stream",
          "name": "stderr",
          "text": [
            "\u001b[34m\u001b[1mwandb\u001b[0m: Currently logged in as: \u001b[33mgeande\u001b[0m (use `wandb login --relogin` to force relogin)\n"
          ]
        },
        {
          "output_type": "display_data",
          "data": {
            "text/html": [
              "\n",
              "                    Syncing run <strong><a href=\"https://wandb.ai/geande/ese546-finalproj/runs/1r68hr9x\" target=\"_blank\">Bit-Depth Reduction Experiment 1</a></strong> to <a href=\"https://wandb.ai/geande/ese546-finalproj\" target=\"_blank\">Weights & Biases</a> (<a href=\"https://docs.wandb.com/integrations/jupyter.html\" target=\"_blank\">docs</a>).<br/>\n",
              "\n",
              "                "
            ],
            "text/plain": [
              "<IPython.core.display.HTML object>"
            ]
          },
          "metadata": {}
        }
      ]
    },
    {
      "cell_type": "code",
      "source": [
        "class FeatureSqueezingNetwork(nn.Module):\n",
        "    def __init__(self, squeeze_params=None, model_name='BASELINE', device=device):\n",
        "        super().__init__()\n",
        "        if squeeze_params is None:\n",
        "            self.squeeze_params = {'bitreduce': 5, \n",
        "                                    'localsmooth': 2,\n",
        "                                    'nonlocalsmooth': (15, 3, 0.1)}\n",
        "        else:\n",
        "            self.squeeze_params = squeeze_params\n",
        "        self.squeeze_dim = len(self.squeeze_params)\n",
        "        self.model_path = root_dir + 'models/' + model_name + '/'\n",
        "        self.device = device\n",
        "        ckpts = list(os.listdir(self.model_path))\n",
        "        if len(ckpts) == 0:\n",
        "            return 'Error, no such file';\n",
        "        elif 'final.h5' not in ckpts:\n",
        "            return 'Error, no such file';\n",
        "        else:\n",
        "            if model_name == 'BASELINE' or model_name == 'CAW_LR':\n",
        "                self.model = allcnn_t()\n",
        "                self.model.load_state_dict(deepcopy(torch.load(self.model_path + 'final.h5')))\n",
        "                self.model = self.model.to(self.device)\n",
        "            #### Add functionality for MobileNet\n",
        "\n",
        "        if 'bitreduce' in self.squeeze_params.keys():\n",
        "            if model_name == 'BASELINE' or model_name == 'CAW_LR':\n",
        "                self.squeezer = allcnn_t()\n",
        "                self.squeezer.load_state_dict(deepcopy(torch.load(self.model_path + 'final.h5')))\n",
        "                self.squeezer = self.squeezer.to(self.device)\n",
        "            #### Add functionality for MobileNet\n",
        "        if 'localsmooth' in self.squeeze_params.keys():\n",
        "            if model_name == 'BASELINE' or model_name == 'CAW_LR':\n",
        "                self.squasher = allcnn_t()\n",
        "                self.squasher.load_state_dict(deepcopy(torch.load(self.model_path + 'final.h5')))\n",
        "                self.squasher = self.squasher.to(self.device)\n",
        "            #### Add functionality for MobileNet\n",
        "        if 'nonlocalsmooth' in self.squeeze_params.keys():\n",
        "            if model_name == 'BASELINE' or model_name == 'CAW_LR':\n",
        "                self.squisher = allcnn_t()\n",
        "                self.squisher.load_state_dict(deepcopy(torch.load(self.model_path + 'final.h5')))\n",
        "                self.squisher = self.squisher.to(self.device)\n",
        "            #### Add functionality for MobileNet\n",
        "        return;\n",
        "\n",
        "    def forward(self, x):\n",
        "        preds = self.model(deepcopy(x))\n",
        "        preds_dict = {'preds': preds}\n",
        "\n",
        "        if 'bitreduce' in self.squeeze_params.keys():\n",
        "            d_x = bitDepthReduction(deepcopy(x), self.squeeze_params['bitreduce'])\n",
        "            squeeze_preds = self.squeezer(d_x)\n",
        "            preds_dict['squeezed'] = squeeze_preds\n",
        "            \n",
        "        if 'localsmooth' in self.squeeze_params.keys():\n",
        "            s_x = localSmoothing(deepcopy(x), self.squeeze_params['localsmooth'])\n",
        "            squash_preds = self.squasher(s_x)\n",
        "            preds_dict['squashed'] = squash_preds\n",
        "\n",
        "        if 'nonlocalsmooth' in self.squeeze_params.keys():\n",
        "            a, b, c = self.squeeze_params['nonlocalsmooth']\n",
        "            q_x = nonLocalSmoothing(deepcopy(x), a, b, c)\n",
        "            squaish_preds = self.squisher(q_x)\n",
        "            preds_dict['squished'] = squash_preds\n",
        "        return preds_dict;"
      ],
      "metadata": {
        "id": "aQ2H95iXAwKK"
      },
      "execution_count": null,
      "outputs": []
    },
    {
      "cell_type": "code",
      "source": [
        "def collect_stats(threshold, TP, TN, FN, FP):\n",
        "    # Compute Accuracy of Detection\n",
        "    accuracy = (TP + TN) / (TP + TN + FN + FP)\n",
        "    # Compute Precision of Detection\n",
        "    precision = TP / (TP + FP)\n",
        "    # Compute Recall of Detection\n",
        "    recall = TP / (TP + FN)\n",
        "    # Compute F1 Score of Detection\n",
        "    f1score = 2 * (precision * recall) / (precision + recall)\n",
        "    wandb.log({\"L1 Detection Threshold\": threshold,\n",
        "               \"Detection Accuracy\": accuracy,\n",
        "               \"Detection Precision\": precision, \n",
        "               \"Detection Recall\": recall, \n",
        "               \"Detection F1 Score\": f1score})\n",
        "    return;\n",
        "\n",
        "def L1Histograms(squeeze_adv_arr, squeeze_legit_arr, \n",
        "                 squash_adv_arr=None, squash_legit_arr=None, \n",
        "                 squish_adv_arr=None, squish_legit_arr=None):\n",
        "    if squash_adv_arr is None or len(squash_adv_arr) == 0:\n",
        "        wandb.log({\n",
        "                    \"Squeezer L1 Histogram (Adversaries)\": wandb.Histogram(squeeze_adv_arr),\n",
        "                    \"Squeezer L1 Histogram (Legitimate)\": wandb.Histogram(squeeze_legit_arr)\n",
        "        })\n",
        "    else:\n",
        "        wandb.log({\n",
        "                    \"Squeezer L1 Histogram (Adversaries)\": wandb.Histogram(squeeze_adv_arr),\n",
        "                    \"Squeezer L1 Histogram (Legitimate)\": wandb.Histogram(squeeze_legit_arr),\n",
        "                    \"Squasher L1 Histogram (Adversaries)\": wandb.Histogram(squash_adv_arr),\n",
        "                    \"Squasher L1 Histogram (Legitimate)\": wandb.Histogram(squash_legit_arr)\n",
        "        })\n",
        "    return;"
      ],
      "metadata": {
        "id": "AGaK3sS3ae2I"
      },
      "execution_count": null,
      "outputs": []
    },
    {
      "cell_type": "code",
      "source": [
        "adv_label_dict = {'0': 'Legitimate',\n",
        "                  '1': 'Adversarial'}\n",
        "\n",
        "# Create a trainloader of shuffled Adversarial and Legitimate Samples\n",
        "detectionloader = torch.utils.data.DataLoader(detectionset, batch_size=1,\n",
        "                                                shuffle=True, pin_memory=True)\n",
        "\n",
        "squeeze_params = {'bitreduce': 5}\n",
        "                  # 'localsmooth': 2}\n",
        "# Define model, starting with just bit depth reduction\n",
        "fsn = FeatureSqueezingNetwork(squeeze_params=squeeze_params)\n",
        "fsn = fsn.to(device)\n",
        "fsn.eval()\n",
        "\n",
        "# Threshold Finding\n",
        "thresholds = torch.arange(0., 1, 0.01)\n",
        "\n",
        "for threshold in thresholds:\n",
        "    TP = 0 # True Detections of Adversarial samples\n",
        "    TN = 0 # True Detections of Legitimate samples\n",
        "    FN = 0 # No Detection of Adversarial samples\n",
        "    FP = 0 # Bad Detection (gt: Legitimate, pred: Adversarial)\n",
        "    l1_diff_squeeze_adv_arr = []\n",
        "    l1_diff_squeeze_legit_arr = []\n",
        "    l1_diff_squash_adv_arr = []\n",
        "    l1_diff_squash_legit_arr = []\n",
        "    l1_diff_squish_adv_arr = []\n",
        "    l1_diff_squish_legit_arr = []\n",
        "\n",
        "    for i, batch in enumerate(detectionloader):\n",
        "        x, y = batch\n",
        "        x, y = x.to(device), y.squeeze(0).to(device)\n",
        "        preds = fsn(x)\n",
        "        adverse = False\n",
        "        if 'squeezed' in preds.keys():\n",
        "            #class_preds = (torch.argmax(preds['preds']).item(), torch.argmax(preds['squeezed']).item())\n",
        "            l1_diff_squeeze = torch.sum(torch.abs(preds['preds'] - preds['squeezed']), dim=1).item()\n",
        "            if l1_diff_squeeze > threshold.item():\n",
        "                l1_diff_squeeze_adv_arr.append(l1_diff_squeeze)\n",
        "                adverse = True;\n",
        "            else:\n",
        "                l1_diff_squeeze_legit_arr.append(l1_diff_squeeze)\n",
        "        \n",
        "        if 'squashed' in preds.keys():\n",
        "            #class_preds = (torch.argmax(preds['preds']).item(), torch.argmax(preds['squeezed']).item(), torch.argmax(preds['squashed']).item())\n",
        "            l1_diff_squash = torch.sum(torch.abs(preds['preds'] - preds['squashed']), dim=1).item()\n",
        "            if l1_diff_squash > threshold.item():\n",
        "                l1_diff_squash_adv_arr.append(l1_diff_squash)\n",
        "                adverse = True\n",
        "            else:\n",
        "                l1_diff_squash_legit_arr.append(l1_diff_squash)\n",
        "        \n",
        "        if 'squished' in preds.keys():\n",
        "            #class_preds = (torch.argmax(preds['preds']).item(), torch.argmax(preds['squeezed']).item(), torch.argmax(preds['squashed']).item())\n",
        "            l1_diff_squish = torch.sum(torch.abs(preds['preds'] - preds['squished']), dim=1).item()\n",
        "            if l1_diff_squish > threshold.item():\n",
        "                l1_diff_squish_adv_arr.append(l1_diff_squish)\n",
        "                adverse = True\n",
        "            else:\n",
        "                l1_diff_squish_legit_arr.append(l1_diff_squish)\n",
        "\n",
        "        if adverse == y[1].item() and adverse == True:\n",
        "            TP += 1\n",
        "        elif adverse == y[1].item() and adverse == False:\n",
        "            TN += 1\n",
        "        elif adverse != y[1].item() and adverse == True:\n",
        "            FP += 1\n",
        "        elif adverse != y[1].item() and adverse == False:\n",
        "            FN += 1\n",
        "        # print('Sample is predicted to be: ', adv_label_dict[str(int(adverse))])\n",
        "        # print('Class Prediction: ', classes[int(class_preds[0])])\n",
        "        # if 'squeezed' in preds.keys():\n",
        "        #     print('Squeezed Class Prediction: ', classes[int(class_preds[1])])\n",
        "        # if 'squashed' in preds.keys():\n",
        "        #     print('Squeezed Class Prediction: ', classes[int(class_preds[1])])\n",
        "        # print()\n",
        "    collect_stats(threshold, TP, TN, FN, FP)\n",
        "    #L1Histograms(l1_diff_squeeze_adv_arr, l1_diff_squeeze_legit_arr, l1_diff_squash_adv_arr, l1_diff_squash_legit_arr)"
      ],
      "metadata": {
        "colab": {
          "base_uri": "https://localhost:8080/"
        },
        "id": "YGCaTsMJuXDM",
        "outputId": "8bc9c4d3-8505-49f1-82f0-fdad930f9f21"
      },
      "execution_count": null,
      "outputs": [
        {
          "output_type": "stream",
          "name": "stdout",
          "text": [
            "Num parameters:  1667166\n",
            "Num parameters:  1667166\n"
          ]
        }
      ]
    },
    {
      "cell_type": "markdown",
      "source": [
        "#Training the Feature Squeezing Network"
      ],
      "metadata": {
        "id": "ksAc7QoO5AGI"
      }
    },
    {
      "cell_type": "code",
      "source": [
        "def my_loss_fcn(preds, targets):\n",
        "    '''\n",
        "        inputs:\n",
        "            ouputs - dict of tensors of batchwise outputs from fsn model class predictions\n",
        "            targets - tensor of labels (class label, adversarial label)\n",
        "        outputs:\n",
        "            loss - dict of class and adversarial losses, may or may not use both, \n",
        "    '''\n",
        "    adverse = {}\n",
        "    class_preds = {}\n",
        "    class_preds['preds'] = torch.argmax(preds['preds'])#.item()\n",
        "    if 'squeezed' in preds.keys():\n",
        "        class_preds['squeezed'] = torch.argmax(preds['squeezed'])#.item())\n",
        "        l1_diff_squeeze = torch.sum(torch.abs(preds['preds'] - preds['squeezed']), dim=1)#.item()\n",
        "        threshold_arr = threshold.item()*torch.ones_like(l1_diff_squeeze)\n",
        "        adverse['squeezed'] = l1_diff_squeeze > threshold_arr\n",
        "        \n",
        "    if 'squashed' in preds.keys():\n",
        "        class_preds['squashed'] = torch.argmax(preds['squashed'])#.item())\n",
        "        l1_diff_squash = torch.sum(torch.abs(preds['preds'] - preds['squashed']), dim=1)#.item()\n",
        "        threshold_arr = threshold.item()*torch.ones_like(l1_diff_squeeze)\n",
        "        adverse['squashed'] = l1_diff_squeeze > threshold_arr\n",
        "    \n",
        "    if 'squished' in preds.keys():\n",
        "        class_preds['squished'] = torch.argmax(preds['squashed'])#.item())\n",
        "        l1_diff_squish = torch.sum(torch.abs(preds['preds'] - preds['squished']), dim=1)#.item()\n",
        "        threshold_arr = threshold.item()*torch.ones_like(l1_diff_squeeze)\n",
        "        adverse['squished'] = l1_diff_squeeze > threshold_arr\n",
        "    loss = {}\n",
        "    for i, (net_name, class_pred) in enumerate(class_preds.items()):\n",
        "        if i == 0:\n",
        "            loss['adversarial']"
      ],
      "metadata": {
        "id": "KvxsA9RK8-O_"
      },
      "execution_count": null,
      "outputs": []
    },
    {
      "cell_type": "code",
      "source": [
        "# Lets just choose a threshold to start with\n",
        "theshold = 0.6"
      ],
      "metadata": {
        "id": "piSfedSPY8da"
      },
      "execution_count": null,
      "outputs": []
    },
    {
      "cell_type": "code",
      "source": [
        "# validation inner loop\n",
        "def validate(model, test_loader):\n",
        "    val_correct = 0\n",
        "    epoch_val_loss = 0\n",
        "    val_total = 0\n",
        "    for i, (images, labels) in enumerate(test_loader):\n",
        "        images = images.to(device)\n",
        "        labels = labels.to(device)\n",
        "        outputs = model(images)\n",
        "        loss = criterion(outputs, labels)\n",
        "        \n",
        "        _, predicted = torch.max(outputs.data, 1)\n",
        "        val_correct += (predicted == labels).sum().item()\n",
        "        epoch_val_loss += loss.item()\n",
        "        val_total += labels.size(0)\n",
        "\n",
        "    epoch_val_error = 1.0 - (val_correct / val_total)\n",
        "    epoch_val_loss = epoch_val_loss / val_total\n",
        "    return epoch_val_error, epoch_val_loss\n",
        "\n",
        "# The training loop\n",
        "def train(net, optimizer, scheduler, criterion, train_loader, test_loader, epochs):\n",
        "    model = net.to(device)\n",
        "    total_step = len(train_loader)\n",
        "    overall_step = 0\n",
        "    for epoch in range(epochs):\n",
        "        correct = 0\n",
        "        epoch_loss = 0\n",
        "        total = 0\n",
        "        model.train()\n",
        "        for i, (images, labels) in enumerate(train_loader):\n",
        "            if scheduler is None:\n",
        "                # Update LR according to Cosine Annealing Warmup (discussed further down)\n",
        "                next_lr = lr_scheduler_impl(epoch, i)\n",
        "                for g in optimizer.param_groups:\n",
        "                    g['lr'] = next_lr\n",
        "            else:\n",
        "                next_lr = scheduler.get_last_lr()[0]\n",
        "            # Move tensors to configured device\n",
        "            images = images.to(device)\n",
        "            labels = labels.to(device)\n",
        "            # Forward Pass\n",
        "            outputs = model(images)\n",
        "            loss = criterion(outputs, labels)\n",
        "            # Compute loss and error\n",
        "            _, predicted = torch.max(outputs.data, 1)\n",
        "            iter_correct = (predicted == labels).sum().item()\n",
        "            correct += iter_correct\n",
        "            epoch_loss += loss.item()\n",
        "            total += labels.size(0)\n",
        "            # Log per weight Update\n",
        "            wandb.log({\"Iteration Training Loss\": loss.item(),\n",
        "                       \"Iteration Training Error\": 1.0 - (iter_correct / labels.size(0)),\n",
        "                       \"Iteration LR\": next_lr,\n",
        "                       \"Iteration\": epoch*total_step + i})\n",
        "            # Backpropogation and SGD\n",
        "            optimizer.zero_grad()\n",
        "            loss.backward()\n",
        "            optimizer.step()\n",
        "\n",
        "            if (i+1) % config.batch_size == 0:\n",
        "                print ('Epoch [{}/{}], Step [{}/{}], Loss: {:.4f}'.format(epoch+1, epochs, i+1, total_step, loss.item()))\n",
        "        # log training metrics\n",
        "        epoch_error = 1.0 - (correct / total)\n",
        "        epoch_loss = epoch_loss / total\n",
        "        wandb.log({\"Epoch Training Loss\": epoch_loss,\n",
        "                   \"Epoch Training Error\": epoch_error,\n",
        "                   \"Epoch LR\": next_lr,\n",
        "                   \"Epoch\": epoch,\n",
        "                   \"Iteration\": (epoch + 1)*total_step})\n",
        "\n",
        "        ################ Validation ################\n",
        "        model.eval()\n",
        "        with torch.no_grad():\n",
        "            epoch_val_error, epoch_val_loss = validate(model, test_loader)\n",
        "        if scheduler is not None:\n",
        "            scheduler.step()\n",
        "        # log validation metrics\n",
        "        wandb.log({\"Validation Loss\": epoch_val_loss,\n",
        "                   \"Validation Error\": epoch_val_error,\n",
        "                   \"Epoch\": epoch,\n",
        "                   \"Iteration\": (epoch + 1)*total_step})\n",
        "        print('Error of the network on the test images: {} %'.format(100 * epoch_val_error))\n",
        "\n",
        "        if (epoch+1) % 5 == 0 and epoch+1 != epochs:\n",
        "            if epoch+1 < 10:\n",
        "                model_name = \"epoch0\" + str(epoch+1) + \".h5\"\n",
        "            else:\n",
        "                model_name = \"epoch\" + str(epoch+1) + \".h5\"\n",
        "            if scheduler is None:\n",
        "                save_name = root_dir + \"models/CAW_LR/\" + model_name\n",
        "            else:\n",
        "                save_name = root_dir + \"models/BASELINE/\" + model_name\n",
        "            torch.save(model.state_dict(), save_name)"
      ],
      "metadata": {
        "id": "nM4GYJ_g5TBc"
      },
      "execution_count": null,
      "outputs": []
    }
  ]
}